{
  "nbformat": 4,
  "nbformat_minor": 0,
  "metadata": {
    "colab": {
      "name": "CNN with Time Distributed.ipynb",
      "provenance": [],
      "authorship_tag": "ABX9TyNNdK8jHlXTQztfDXhFG21U",
      "include_colab_link": true
    },
    "kernelspec": {
      "name": "python3",
      "display_name": "Python 3"
    },
    "accelerator": "GPU"
  },
  "cells": [
    {
      "cell_type": "markdown",
      "metadata": {
        "id": "view-in-github",
        "colab_type": "text"
      },
      "source": [
        "<a href=\"https://colab.research.google.com/github/Amitgm/Deep-Learning-for-sentiment-analysis/blob/main/CNN_with_Time_Distributed.ipynb\" target=\"_parent\"><img src=\"https://colab.research.google.com/assets/colab-badge.svg\" alt=\"Open In Colab\"/></a>"
      ]
    },
    {
      "cell_type": "code",
      "metadata": {
        "id": "YJnZjNci9w2Q"
      },
      "source": [
        ""
      ],
      "execution_count": null,
      "outputs": []
    },
    {
      "cell_type": "code",
      "metadata": {
        "id": "AObaOU3FIeUf",
        "colab": {
          "base_uri": "https://localhost:8080/",
          "height": 104
        },
        "outputId": "6e401295-4242-4dd4-a9ee-340954eadac7"
      },
      "source": [
        "from sklearn.model_selection import train_test_split\n",
        "import numpy as np\n",
        "import keras\n",
        "from keras.models import Sequential\n",
        "from keras.layers.core import Dense,Flatten,Dropout\n",
        "from keras.layers import Activation,Embedding,TimeDistributed,LSTM,GlobalAveragePooling2D\n",
        "from keras.optimizers import Adam\n",
        "from keras.metrics import categorical_crossentropy\n",
        "from keras.layers.convolutional import *\n",
        "from keras.layers.normalization import BatchNormalization\n",
        "from keras.preprocessing.image import ImageDataGenerator\n",
        "import matplotlib.pyplot as plt\n",
        "import pandas as pd\n",
        "from keras.preprocessing import text\n",
        "from keras.preprocessing import sequence\n",
        "import re\n",
        "from nltk.corpus import stopwords\n",
        "import nltk\n",
        "from nltk.tokenize.treebank import TreebankWordDetokenizer\n",
        "from nltk.tokenize import word_tokenize\n",
        "from tqdm import tqdm\n",
        "nltk.download('stopwords')\n",
        "nltk.download('punkt')\n",
        "from keras.applications.vgg16 import VGG16\n",
        "from PIL import Image\n",
        "from numba import jit, cuda\n",
        "import keras.models"
      ],
      "execution_count": null,
      "outputs": [
        {
          "output_type": "stream",
          "text": [
            "Using TensorFlow backend.\n"
          ],
          "name": "stderr"
        },
        {
          "output_type": "stream",
          "text": [
            "[nltk_data] Downloading package stopwords to /root/nltk_data...\n",
            "[nltk_data]   Unzipping corpora/stopwords.zip.\n",
            "[nltk_data] Downloading package punkt to /root/nltk_data...\n",
            "[nltk_data]   Unzipping tokenizers/punkt.zip.\n"
          ],
          "name": "stdout"
        }
      ]
    },
    {
      "cell_type": "code",
      "metadata": {
        "id": "oZmz7cDTa6KR"
      },
      "source": [
        ""
      ],
      "execution_count": null,
      "outputs": []
    },
    {
      "cell_type": "code",
      "metadata": {
        "id": "TgGOcjSpI0RF"
      },
      "source": [
        "img1=np.array([0,0,0,0,0,0,0,0,1,0,0,0,0,1,0,1,0,0,1,0,0,0,1,0,1,0,0,0,1,0,1,1,1,1,1,0,1,0,0,0,1,0,1,0,0,0,1,0,0,0,0,0,0,0,0,0,0,0,0,0])\n",
        "img2=np.array([0,0,0,0,0,0,1,1,1,1,0,0,1,0,0,0,1,0,1,0,0,0,1,0,1,1,1,1,0,0,1,0,0,0,1,0,1,0,0,0,1,0,1,1,1,1,0,0,0,0,0,0,0,0,0,0,0,0,0,0])\n",
        "img3=np.array([0,0,0,0,0,0,0,1,1,1,0,0,1,0,0,0,1,0,1,0,0,0,0,0,1,0,0,0,0,0,1,0,0,0,0,0,1,0,0,0,1,0,0,1,1,1,0,0,0,0,0,0,0,0,0,0,0,0,0,0])\n",
        "img4=np.array([0,0,0,0,0,0,1,1,1,1,0,0,1,0,0,0,1,0,1,0,0,0,1,0,1,0,0,0,1,0,1,0,0,0,1,0,1,0,0,0,1,0,1,1,1,1,0,0,0,0,0,0,0,0,0,0,0,0,0,0])\n",
        "img5=np.array([0,0,0,0,0,0,1,1,1,1,1,0,1,0,0,0,0,0,1,0,0,0,0,0,1,1,1,1,0,0,1,0,0,0,0,0,1,0,0,0,0,0,1,1,1,1,1,0,0,0,0,0,0,0,0,0,0,0,0,0])\n",
        "img6=np.array([0,0,0,0,0,0,1,1,1,1,1,0,1,0,0,0,0,0,1,0,0,0,0,0,1,1,1,1,0,0,1,0,0,0,0,0,1,0,0,0,0,0,1,0,0,0,0,0,0,0,0,0,0,0,0,0,0,0,0,0])\n",
        "img7=np.array([0,0,0,0,0,0,0,1,1,1,0,0,1,0,0,0,1,0,1,0,0,0,0,0,1,0,0,0,0,0,1,0,1,1,1,0,1,0,0,0,1,0,0,1,1,1,0,0,0,0,0,0,0,0,0,0,0,0,0,0])\n",
        "img8=np.array([0,0,0,0,0,0,1,0,0,0,1,0,1,0,0,0,1,0,1,0,0,0,1,0,1,1,1,1,1,0,1,0,0,0,1,0,1,0,0,0,1,0,1,0,0,0,1,0,0,0,0,0,0,0,0,0,0,0,0,0])\n",
        "img9=np.array([0,0,0,0,0,0,1,1,1,1,1,1,0,0,1,0,0,0,0,0,1,0,0,0,0,0,1,0,0,0,0,0,1,0,0,0,0,0,1,0,0,0,1,1,1,1,1,1,0,0,0,0,0,0,0,0,0,0,0,0])\n",
        "img10=np.array([0,0,0,0,0,0,0,0,0,0,1,0,0,0,0,0,1,0,0,0,0,0,1,0,0,0,0,0,1,0,0,0,0,0,1,0,1,0,0,0,1,0,0,1,1,1,0,0,0,0,0,0,0,0,0,0,0,0,0,0])\n",
        "img11=np.array([0,0,0,0,0,0,1,0,0,0,1,0,1,0,0,1,0,0,1,0,1,0,0,0,1,1,0,0,0,0,1,0,1,0,0,0,1,0,0,1,0,0,1,0,0,0,1,0,0,0,0,0,0,0,0,0,0,0,0,0])\n",
        "img12=np.array([0,0,0,0,0,0,1,0,0,0,0,0,1,0,0,0,0,0,1,0,0,0,0,0,1,0,0,0,0,0,1,0,0,0,0,0,1,0,0,0,0,0,1,1,1,1,1,0,0,0,0,0,0,0,0,0,0,0,0,0])\n",
        "img13=np.array([0,0,0,0,0,0,0,1,0,1,0,0,1,0,1,0,1,0,1,0,1,0,1,0,1,0,1,0,1,0,1,0,0,0,1,0,1,0,0,0,1,0,1,0,0,0,1,0,0,0,0,0,0,0,0,0,0,0,0,0])\n",
        "img14=np.array([0,0,0,0,0,0,1,0,0,0,1,0,1,0,0,0,1,0,1,1,0,0,1,0,1,0,1,0,1,0,1,0,0,1,1,0,1,0,0,0,1,0,1,0,0,0,1,0,0,0,0,0,0,0,0,0,0,0,0,0])\n",
        "img15=np.array([0,0,0,0,0,0,0,1,1,1,0,0,1,0,0,0,1,0,1,0,0,0,1,0,1,0,0,0,1,0,1,0,0,0,1,0,1,0,0,0,1,0,0,1,1,1,0,0,0,0,0,0,0,0,0,0,0,0,0,0])\n",
        "img16=np.array([0,0,0,0,0,0,1,1,1,1,0,0,1,0,0,0,1,0,1,0,0,0,1,0,1,1,1,1,0,0,1,0,0,0,0,0,1,0,0,0,0,0,1,0,0,0,0,0,0,0,0,0,0,0,0,0,0,0,0,0])\n",
        "img17=np.array([0,0,0,0,0,0,0,1,1,1,0,0,1,0,0,0,1,0,1,0,0,0,1,0,1,0,0,0,1,0,1,0,1,0,1,0,1,0,0,1,1,0,0,1,1,1,1,0,0,0,0,0,0,0,0,0,0,0,0,0])\n",
        "img18=np.array([0,0,0,0,0,0,1,1,1,1,0,0,1,0,0,0,1,0,1,0,0,0,1,0,1,1,1,1,0,0,1,0,1,0,0,0,1,0,0,1,0,0,1,0,0,0,1,0,0,0,0,0,0,0,0,0,0,0,0,0])\n",
        "img19=np.array([0,0,0,0,0,0,0,1,1,1,0,0,1,0,0,0,1,0,1,0,0,0,0,0,0,1,1,1,0,0,0,0,0,0,1,0,1,0,0,0,1,0,0,1,1,1,0,0,0,0,0,0,0,0,0,0,0,0,0,0])\n",
        "img20=np.array([0,0,0,0,0,0,1,1,1,1,1,0,0,0,1,0,0,0,0,0,1,0,0,0,0,0,1,0,0,0,0,0,1,0,0,0,0,0,1,0,0,0,0,0,1,0,0,0,0,0,0,0,0,0,0,0,0,0,0,0])\n",
        "img21=np.array([0,0,0,0,0,0,1,0,0,0,1,0,1,0,0,0,1,0,1,0,0,0,1,0,1,0,0,0,1,0,1,0,0,0,1,0,1,0,0,0,1,0,0,1,1,1,0,0,0,0,0,0,0,0,0,0,0,0,0,0])\n",
        "img22=np.array([0,0,0,0,0,0,1,0,0,0,1,0,1,0,0,0,1,0,1,0,0,0,1,0,1,0,0,0,1,0,1,0,0,0,1,0,0,1,0,1,0,0,0,0,1,0,0,0,0,0,0,0,0,0,0,0,0,0,0,0])\n",
        "img23=np.array([0,0,0,0,0,0,1,0,0,0,1,0,1,0,0,0,1,0,1,0,0,0,1,0,1,0,1,0,1,0,1,0,1,0,1,0,1,0,1,0,1,0,0,1,0,1,0,0,0,0,0,0,0,0,0,0,0,0,0,0])\n",
        "img24=np.array([0,0,0,0,0,0,1,0,0,0,1,0,1,0,0,0,1,0,0,1,0,1,0,0,0,0,1,0,0,0,0,1,0,1,0,0,1,0,0,0,1,0,1,0,0,0,1,0,0,0,0,0,0,0,0,0,0,0,0,0])\n",
        "img25=np.array([0,0,0,0,0,0,1,0,0,0,1,0,1,0,0,0,1,0,1,0,0,0,1,0,0,1,0,1,0,0,0,0,1,0,0,0,0,0,1,0,0,0,0,0,1,0,0,0,0,0,0,0,0,0,0,0,0,0,0,0])\n",
        "img26=np.array([0,0,0,0,0,0,1,1,1,1,1,0,0,0,0,0,1,0,0,0,0,1,0,0,0,0,1,0,0,0,0,1,0,0,0,0,1,0,0,0,0,0,1,1,1,1,1,0,0,0,0,0,0,0,0,0,0,0,0,0])\n",
        "img27=np.array([0,0,0,0,0,0,0,0,0,0,0,0,0,0,0,0,0,0,0,0,0,0,0,0,0,0,0,0,0,0,0,0,0,0,0,0,0,0,0,0,0,0,0,0,0,0,0,0,0,0,0,0,0,0,0,0,0,0,0,0])"
      ],
      "execution_count": null,
      "outputs": []
    },
    {
      "cell_type": "code",
      "metadata": {
        "id": "WBXy9Qjix6VI"
      },
      "source": [
        ""
      ],
      "execution_count": null,
      "outputs": []
    },
    {
      "cell_type": "code",
      "metadata": {
        "id": "MUhXqTrKbDBO"
      },
      "source": [
        ""
      ],
      "execution_count": null,
      "outputs": []
    },
    {
      "cell_type": "code",
      "metadata": {
        "id": "A0YBJUGeI1YA"
      },
      "source": [
        "img2=img2.reshape(10,6)\n",
        "img1=img1.reshape(10,6)\n",
        "img3=img3.reshape(10,6)\n",
        "img4=img4.reshape(10,6)\n",
        "img5=img5.reshape(10,6)\n",
        "img6=img6.reshape(10,6)\n",
        "img7=img7.reshape(10,6)\n",
        "img8=img8.reshape(10,6)\n",
        "img9=img9.reshape(10,6)\n",
        "img10=img10.reshape(10,6)\n",
        "img11=img11.reshape(10,6)\n",
        "img12=img12.reshape(10,6)\n",
        "img13=img13.reshape(10,6)\n",
        "img14=img14.reshape(10,6)\n",
        "img15=img15.reshape(10,6)\n",
        "img16=img16.reshape(10,6)\n",
        "img17=img17.reshape(10,6)\n",
        "img18=img18.reshape(10,6)\n",
        "img19=img19.reshape(10,6)\n",
        "img20=img20.reshape(10,6)\n",
        "img21=img21.reshape(10,6)\n",
        "img22=img22.reshape(10,6)\n",
        "img23=img23.reshape(10,6)\n",
        "img24=img24.reshape(10,6)\n",
        "img25=img25.reshape(10,6)\n",
        "img26=img26.reshape(10,6)\n",
        "img27=img27.reshape(10,6)"
      ],
      "execution_count": null,
      "outputs": []
    },
    {
      "cell_type": "code",
      "metadata": {
        "id": "p_bH_BclbJhT"
      },
      "source": [
        ""
      ],
      "execution_count": null,
      "outputs": []
    },
    {
      "cell_type": "code",
      "metadata": {
        "id": "QOF1-WbvI8IW"
      },
      "source": [
        "dict1={'A':img1,'B':img2,'C':img3,'D':img4,'E':img5,'F':img6,'G':img7,'H':img8,'I':img9,'J':img10,'K':img11,'L':img12,'M':img13,'N':img14,'O':img15,'P':img16,'Q':img17,'R':img18,'S':img19,'T':img20,'U':img21,'V':img22,'W':img23,'X':img24,'Y':img25,'Z':img26,' ':img27}"
      ],
      "execution_count": null,
      "outputs": []
    },
    {
      "cell_type": "code",
      "metadata": {
        "id": "PnxbDKcIbPlK",
        "colab": {
          "base_uri": "https://localhost:8080/",
          "height": 124
        },
        "outputId": "30849d5a-77f4-47f8-a236-a573baab0634"
      },
      "source": [
        "from google.colab import drive\n",
        "drive.mount('/content/drive')"
      ],
      "execution_count": null,
      "outputs": [
        {
          "output_type": "stream",
          "text": [
            "Go to this URL in a browser: https://accounts.google.com/o/oauth2/auth?client_id=947318989803-6bn6qk8qdgf4n4g3pfee6491hc0brc4i.apps.googleusercontent.com&redirect_uri=urn%3aietf%3awg%3aoauth%3a2.0%3aoob&response_type=code&scope=email%20https%3a%2f%2fwww.googleapis.com%2fauth%2fdocs.test%20https%3a%2f%2fwww.googleapis.com%2fauth%2fdrive%20https%3a%2f%2fwww.googleapis.com%2fauth%2fdrive.photos.readonly%20https%3a%2f%2fwww.googleapis.com%2fauth%2fpeopleapi.readonly\n",
            "\n",
            "Enter your authorization code:\n",
            "··········\n",
            "Mounted at /content/drive\n"
          ],
          "name": "stdout"
        }
      ]
    },
    {
      "cell_type": "code",
      "metadata": {
        "id": "gPtIP3ExbmRR"
      },
      "source": [
        "dataset=pd.read_csv('/content/drive/My Drive/Tweets.csv')"
      ],
      "execution_count": null,
      "outputs": []
    },
    {
      "cell_type": "code",
      "metadata": {
        "id": "_bcyD_7vbqOm"
      },
      "source": [
        "dataset=dataset[dataset['airline_sentiment']!='neutral']"
      ],
      "execution_count": null,
      "outputs": []
    },
    {
      "cell_type": "code",
      "metadata": {
        "id": "DJLhtrvHbqcM"
      },
      "source": [
        "dataset=dataset.reset_index()\n",
        "dataset=dataset[['text','airline_sentiment']]"
      ],
      "execution_count": null,
      "outputs": []
    },
    {
      "cell_type": "code",
      "metadata": {
        "id": "PJi7mcDFbzSH"
      },
      "source": [
        "dataset.airline_sentiment[dataset.airline_sentiment=='positive'] = 1\n",
        "dataset.airline_sentiment[dataset.airline_sentiment=='negative'] = 0"
      ],
      "execution_count": null,
      "outputs": []
    },
    {
      "cell_type": "code",
      "metadata": {
        "id": "_hFMUdokcJ_k"
      },
      "source": [
        "dataset_labels=dataset.airline_sentiment"
      ],
      "execution_count": null,
      "outputs": []
    },
    {
      "cell_type": "code",
      "metadata": {
        "id": "oSL6w3zDcQzg"
      },
      "source": [
        "dataset=dataset['text']"
      ],
      "execution_count": null,
      "outputs": []
    },
    {
      "cell_type": "code",
      "metadata": {
        "id": "Y7mweLwHYfPq",
        "colab": {
          "base_uri": "https://localhost:8080/",
          "height": 225
        },
        "outputId": "3d4576a9-933a-4ea6-c206-183321d6787e"
      },
      "source": [
        "dataset"
      ],
      "execution_count": null,
      "outputs": [
        {
          "output_type": "execute_result",
          "data": {
            "text/plain": [
              "0        @VirginAmerica plus you've added commercials t...\n",
              "1        @VirginAmerica it's really aggressive to blast...\n",
              "2        @VirginAmerica and it's a really big bad thing...\n",
              "3        @VirginAmerica seriously would pay $30 a fligh...\n",
              "4        @VirginAmerica yes, nearly every time I fly VX...\n",
              "                               ...                        \n",
              "11536    @AmericanAir my flight was Cancelled Flightled...\n",
              "11537           @AmericanAir right on cue with the delays👌\n",
              "11538    @AmericanAir thank you we got on a different f...\n",
              "11539    @AmericanAir leaving over 20 minutes Late Flig...\n",
              "11540    @AmericanAir you have my money, you change my ...\n",
              "Name: text, Length: 11541, dtype: object"
            ]
          },
          "metadata": {
            "tags": []
          },
          "execution_count": 12
        }
      ]
    },
    {
      "cell_type": "code",
      "metadata": {
        "id": "tlj8mP0laKRX"
      },
      "source": [
        "def process(data): \n",
        " text_dataframe=pd.DataFrame()\n",
        " text_list=[]\n",
        " word_list=[]  \n",
        " stop_words=set(stopwords.words(\"english\"))\n",
        " for i in tqdm(range(0,len(data))):\n",
        "    text1=re.sub(\"@[A-Za-z0-9]+\",\" \",data[i])\n",
        "    text1=re.sub(\"#[A-Za-z0-9]+\",\" \",text1)\n",
        "    text1=re.sub(\"http\\S+\",\" \",text1)\n",
        "    text1=re.sub(\"[^A-Za-z]+\",\" \",text1)\n",
        "    words=word_tokenize(text1)\n",
        "    for w in words:\n",
        "     if w not in stop_words:\n",
        "           word_list.append(w)\n",
        "    text1=TreebankWordDetokenizer().detokenize(word_list)\n",
        "    word_list=[]\n",
        "    text1=text1.upper()\n",
        "    text_list.append(text1)    \n",
        "\n",
        "      \n",
        "\n",
        "\n",
        " text_dataframe=text_dataframe.append(text_list)\n",
        "\n",
        " return text_dataframe"
      ],
      "execution_count": null,
      "outputs": []
    },
    {
      "cell_type": "code",
      "metadata": {
        "id": "v4XiqrMWcS67"
      },
      "source": [
        "def process2(data): \n",
        " text_dataframe=pd.DataFrame()\n",
        " text_list=[]\n",
        " word_list=[]  \n",
        " len1=0\n",
        " stop_words=set(stopwords.words(\"english\"))\n",
        " for i in tqdm(range(0,len(data))):\n",
        "    text1=re.sub(\"@[A-Za-z]+\",\" \",data[i])\n",
        "    text1=re.sub(\"#[A-Za-z]+\",\" \",text1)\n",
        "    text1=re.sub(\"http\\S+\",\" \",text1)\n",
        "    text1=re.sub(\"[^A-Za-z]+\",\" \",text1)\n",
        "    words=word_tokenize(text1)\n",
        "    for w in words:\n",
        "     if w not in stop_words:\n",
        "           word_list.append(w)\n",
        "           len1+=1\n",
        "           if len1==5:\n",
        "                break;\n",
        "    text1=TreebankWordDetokenizer().detokenize(word_list)\n",
        "    len1=0\n",
        "    word_list=[]\n",
        "    text1=text1.upper()\n",
        "    text_list.append(text1)   \n",
        "    \n",
        " text_dataframe=text_dataframe.append(text_list)\n",
        "\n",
        " return text_dataframe"
      ],
      "execution_count": null,
      "outputs": []
    },
    {
      "cell_type": "code",
      "metadata": {
        "id": "ftJFf9o4cbQ3",
        "colab": {
          "base_uri": "https://localhost:8080/",
          "height": 35
        },
        "outputId": "5beb226c-bd66-4e3f-b48a-f5a3712148fe"
      },
      "source": [
        "procs_dataset=process(dataset)"
      ],
      "execution_count": null,
      "outputs": [
        {
          "output_type": "stream",
          "text": [
            "100%|██████████| 11541/11541 [00:03<00:00, 3337.90it/s]\n"
          ],
          "name": "stderr"
        }
      ]
    },
    {
      "cell_type": "code",
      "metadata": {
        "id": "W6enS-KOxCsW",
        "colab": {
          "base_uri": "https://localhost:8080/",
          "height": 415
        },
        "outputId": "724ec675-2da8-4266-fc94-18b09e853d7b"
      },
      "source": [
        "procs_dataset"
      ],
      "execution_count": null,
      "outputs": [
        {
          "output_type": "execute_result",
          "data": {
            "text/html": [
              "<div>\n",
              "<style scoped>\n",
              "    .dataframe tbody tr th:only-of-type {\n",
              "        vertical-align: middle;\n",
              "    }\n",
              "\n",
              "    .dataframe tbody tr th {\n",
              "        vertical-align: top;\n",
              "    }\n",
              "\n",
              "    .dataframe thead th {\n",
              "        text-align: right;\n",
              "    }\n",
              "</style>\n",
              "<table border=\"1\" class=\"dataframe\">\n",
              "  <thead>\n",
              "    <tr style=\"text-align: right;\">\n",
              "      <th></th>\n",
              "      <th>0</th>\n",
              "    </tr>\n",
              "  </thead>\n",
              "  <tbody>\n",
              "    <tr>\n",
              "      <th>0</th>\n",
              "      <td>PLUS ADDED COMMERCIALS EXPERIENCE TACKY</td>\n",
              "    </tr>\n",
              "    <tr>\n",
              "      <th>1</th>\n",
              "      <td>REALLY AGGRESSIVE BLAST OBNOXIOUS ENTERTAINMEN...</td>\n",
              "    </tr>\n",
              "    <tr>\n",
              "      <th>2</th>\n",
              "      <td>REALLY BIG BAD THING</td>\n",
              "    </tr>\n",
              "    <tr>\n",
              "      <th>3</th>\n",
              "      <td>SERIOUSLY WOULD PAY FLIGHT SEATS PLAYING REALL...</td>\n",
              "    </tr>\n",
              "    <tr>\n",
              "      <th>4</th>\n",
              "      <td>YES NEARLY EVERY TIME I FLY VX EAR WORM GO AWAY</td>\n",
              "    </tr>\n",
              "    <tr>\n",
              "      <th>...</th>\n",
              "      <td>...</td>\n",
              "    </tr>\n",
              "    <tr>\n",
              "      <th>11536</th>\n",
              "      <td>FLIGHT CANCELLED FLIGHTLED LEAVING TOMORROW MO...</td>\n",
              "    </tr>\n",
              "    <tr>\n",
              "      <th>11537</th>\n",
              "      <td>RIGHT CUE DELAYS</td>\n",
              "    </tr>\n",
              "    <tr>\n",
              "      <th>11538</th>\n",
              "      <td>THANK GOT DIFFERENT FLIGHT CHICAGO</td>\n",
              "    </tr>\n",
              "    <tr>\n",
              "      <th>11539</th>\n",
              "      <td>LEAVING MINUTES LATE FLIGHT NO WARNINGS COMMUN...</td>\n",
              "    </tr>\n",
              "    <tr>\n",
              "      <th>11540</th>\n",
              "      <td>MONEY CHANGE FLIGHT ANSWER PHONES ANY SUGGESTI...</td>\n",
              "    </tr>\n",
              "  </tbody>\n",
              "</table>\n",
              "<p>11541 rows × 1 columns</p>\n",
              "</div>"
            ],
            "text/plain": [
              "                                                       0\n",
              "0                PLUS ADDED COMMERCIALS EXPERIENCE TACKY\n",
              "1      REALLY AGGRESSIVE BLAST OBNOXIOUS ENTERTAINMEN...\n",
              "2                                   REALLY BIG BAD THING\n",
              "3      SERIOUSLY WOULD PAY FLIGHT SEATS PLAYING REALL...\n",
              "4        YES NEARLY EVERY TIME I FLY VX EAR WORM GO AWAY\n",
              "...                                                  ...\n",
              "11536  FLIGHT CANCELLED FLIGHTLED LEAVING TOMORROW MO...\n",
              "11537                                   RIGHT CUE DELAYS\n",
              "11538                 THANK GOT DIFFERENT FLIGHT CHICAGO\n",
              "11539  LEAVING MINUTES LATE FLIGHT NO WARNINGS COMMUN...\n",
              "11540  MONEY CHANGE FLIGHT ANSWER PHONES ANY SUGGESTI...\n",
              "\n",
              "[11541 rows x 1 columns]"
            ]
          },
          "metadata": {
            "tags": []
          },
          "execution_count": 16
        }
      ]
    },
    {
      "cell_type": "code",
      "metadata": {
        "id": "kGdZoQx-cgdM"
      },
      "source": [
        "pro=procs_dataset[0]"
      ],
      "execution_count": null,
      "outputs": []
    },
    {
      "cell_type": "code",
      "metadata": {
        "id": "j_fmhjVHci0O"
      },
      "source": [
        "vocab_size=1200\n",
        "tokenizer=text.Tokenizer(num_words=vocab_size)"
      ],
      "execution_count": null,
      "outputs": []
    },
    {
      "cell_type": "code",
      "metadata": {
        "id": "s0EFAuRkcjK6"
      },
      "source": [
        "tokenizer.fit_on_texts(pro)"
      ],
      "execution_count": null,
      "outputs": []
    },
    {
      "cell_type": "code",
      "metadata": {
        "id": "IuTHsImQcpi3"
      },
      "source": [
        "sequences=tokenizer.texts_to_sequences(pro)"
      ],
      "execution_count": null,
      "outputs": []
    },
    {
      "cell_type": "code",
      "metadata": {
        "id": "WgUyiI0TcpmQ"
      },
      "source": [
        "words=tokenizer.sequences_to_texts(sequences)"
      ],
      "execution_count": null,
      "outputs": []
    },
    {
      "cell_type": "code",
      "metadata": {
        "id": "mhvFbRHgPW0b"
      },
      "source": [
        "#words[0:10]"
      ],
      "execution_count": null,
      "outputs": []
    },
    {
      "cell_type": "code",
      "metadata": {
        "id": "L28o4WvENeg7",
        "colab": {
          "base_uri": "https://localhost:8080/",
          "height": 191
        },
        "cellView": "code",
        "outputId": "aeb93744-4f72-4ac7-b62d-0b2852b9f534"
      },
      "source": [
        "#@title Default title text\n",
        "len1=0\n",
        "word_list=[]\n",
        "text_list=[]\n",
        "for word in words:\n",
        "   w=word_tokenize(word)\n",
        "   for letters in w:\n",
        "     len1+=1\n",
        "     word_list.append(letters)\n",
        "     if len1==5:\n",
        "       break;\n",
        "   text1=TreebankWordDetokenizer().detokenize(word_list)\n",
        "   len1=0\n",
        "   word_list=[]\n",
        "   text1=text1.upper()\n",
        "   text_list.append(text1) \n",
        "   print(text_list)\n",
        "   #text_list.append(text1)\n",
        "procs_dataset=pd.DataFrame(text_list)   \n"
      ],
      "execution_count": null,
      "outputs": [
        {
          "output_type": "stream",
          "text": [
            "IOPub data rate exceeded.\n",
            "The notebook server will temporarily stop sending output\n",
            "to the client in order to avoid crashing it.\n",
            "To change this limit, set the config variable\n",
            "`--NotebookApp.iopub_data_rate_limit`.\n",
            "\n",
            "Current values:\n",
            "NotebookApp.iopub_data_rate_limit=1000000.0 (bytes/sec)\n",
            "NotebookApp.rate_limit_window=3.0 (secs)\n",
            "\n"
          ],
          "name": "stderr"
        }
      ]
    },
    {
      "cell_type": "code",
      "metadata": {
        "id": "bq5JSqQMS5Rc",
        "colab": {
          "base_uri": "https://localhost:8080/",
          "height": 415
        },
        "outputId": "739cb699-30c1-4b3f-ea0b-4bffb5fb8cb9"
      },
      "source": [
        "procs_dataset"
      ],
      "execution_count": null,
      "outputs": [
        {
          "output_type": "execute_result",
          "data": {
            "text/html": [
              "<div>\n",
              "<style scoped>\n",
              "    .dataframe tbody tr th:only-of-type {\n",
              "        vertical-align: middle;\n",
              "    }\n",
              "\n",
              "    .dataframe tbody tr th {\n",
              "        vertical-align: top;\n",
              "    }\n",
              "\n",
              "    .dataframe thead th {\n",
              "        text-align: right;\n",
              "    }\n",
              "</style>\n",
              "<table border=\"1\" class=\"dataframe\">\n",
              "  <thead>\n",
              "    <tr style=\"text-align: right;\">\n",
              "      <th></th>\n",
              "      <th>0</th>\n",
              "    </tr>\n",
              "  </thead>\n",
              "  <tbody>\n",
              "    <tr>\n",
              "      <th>0</th>\n",
              "      <td>PLUS ADDED EXPERIENCE</td>\n",
              "    </tr>\n",
              "    <tr>\n",
              "      <th>1</th>\n",
              "      <td>REALLY ENTERTAINMENT AMP LITTLE</td>\n",
              "    </tr>\n",
              "    <tr>\n",
              "      <th>2</th>\n",
              "      <td>REALLY BIG BAD THING</td>\n",
              "    </tr>\n",
              "    <tr>\n",
              "      <th>3</th>\n",
              "      <td>SERIOUSLY WOULD PAY FLIGHT SEATS</td>\n",
              "    </tr>\n",
              "    <tr>\n",
              "      <th>4</th>\n",
              "      <td>YES EVERY TIME I FLY</td>\n",
              "    </tr>\n",
              "    <tr>\n",
              "      <th>...</th>\n",
              "      <td>...</td>\n",
              "    </tr>\n",
              "    <tr>\n",
              "      <th>11536</th>\n",
              "      <td>FLIGHT CANCELLED FLIGHTLED LEAVING TOMORROW</td>\n",
              "    </tr>\n",
              "    <tr>\n",
              "      <th>11537</th>\n",
              "      <td>RIGHT DELAYS</td>\n",
              "    </tr>\n",
              "    <tr>\n",
              "      <th>11538</th>\n",
              "      <td>THANK GOT DIFFERENT FLIGHT CHICAGO</td>\n",
              "    </tr>\n",
              "    <tr>\n",
              "      <th>11539</th>\n",
              "      <td>LEAVING MINUTES LATE FLIGHT NO</td>\n",
              "    </tr>\n",
              "    <tr>\n",
              "      <th>11540</th>\n",
              "      <td>MONEY CHANGE FLIGHT ANSWER PHONES</td>\n",
              "    </tr>\n",
              "  </tbody>\n",
              "</table>\n",
              "<p>11541 rows × 1 columns</p>\n",
              "</div>"
            ],
            "text/plain": [
              "                                                 0\n",
              "0                            PLUS ADDED EXPERIENCE\n",
              "1                  REALLY ENTERTAINMENT AMP LITTLE\n",
              "2                             REALLY BIG BAD THING\n",
              "3                 SERIOUSLY WOULD PAY FLIGHT SEATS\n",
              "4                             YES EVERY TIME I FLY\n",
              "...                                            ...\n",
              "11536  FLIGHT CANCELLED FLIGHTLED LEAVING TOMORROW\n",
              "11537                                 RIGHT DELAYS\n",
              "11538           THANK GOT DIFFERENT FLIGHT CHICAGO\n",
              "11539               LEAVING MINUTES LATE FLIGHT NO\n",
              "11540            MONEY CHANGE FLIGHT ANSWER PHONES\n",
              "\n",
              "[11541 rows x 1 columns]"
            ]
          },
          "metadata": {
            "tags": []
          },
          "execution_count": 25
        }
      ]
    },
    {
      "cell_type": "code",
      "metadata": {
        "id": "yvVXrTwScp0U"
      },
      "source": [
        "#list_word=[]\n",
        "#for w in word:\n",
        " #  list_word.append(w.upper())"
      ],
      "execution_count": null,
      "outputs": []
    },
    {
      "cell_type": "code",
      "metadata": {
        "id": "_Sm0BbL4cqBa"
      },
      "source": [
        "#procs_dataset=pd.DataFrame(list_word)"
      ],
      "execution_count": null,
      "outputs": []
    },
    {
      "cell_type": "code",
      "metadata": {
        "id": "EdHsy_ugc1t-"
      },
      "source": [
        "joined_data=pd.concat([procs_dataset,dataset_labels],axis=1)"
      ],
      "execution_count": null,
      "outputs": []
    },
    {
      "cell_type": "code",
      "metadata": {
        "id": "7Zi95E2xc3nG"
      },
      "source": [
        "joined_data.replace('',np.nan,inplace=True)\n",
        "joined_data.dropna(axis=0,how='any',inplace=True)"
      ],
      "execution_count": null,
      "outputs": []
    },
    {
      "cell_type": "code",
      "metadata": {
        "id": "9XxfRsvKc6Nx"
      },
      "source": [
        "dataset=joined_data[0]"
      ],
      "execution_count": null,
      "outputs": []
    },
    {
      "cell_type": "code",
      "metadata": {
        "id": "52lB4qrHc8So"
      },
      "source": [
        "dataset=pd.DataFrame(dataset)"
      ],
      "execution_count": null,
      "outputs": []
    },
    {
      "cell_type": "code",
      "metadata": {
        "id": "3zH5K53NzAIc"
      },
      "source": [
        "dataset_labels=joined_data.iloc[:,1:4]"
      ],
      "execution_count": null,
      "outputs": []
    },
    {
      "cell_type": "code",
      "metadata": {
        "id": "uzEvehFyzB5V"
      },
      "source": [
        "dataset_labels"
      ],
      "execution_count": null,
      "outputs": []
    },
    {
      "cell_type": "code",
      "metadata": {
        "id": "E24vE8e6dEBu"
      },
      "source": [
        "dataset"
      ],
      "execution_count": null,
      "outputs": []
    },
    {
      "cell_type": "code",
      "metadata": {
        "id": "0J-msdNmdIld"
      },
      "source": [
        "data_train,data_test,label_train,label_test=train_test_split(dataset,dataset_labels,test_size=0.2)"
      ],
      "execution_count": null,
      "outputs": []
    },
    {
      "cell_type": "code",
      "metadata": {
        "id": "m1UARaRIdJXo"
      },
      "source": [
        "def convert_to_images_re(dataframe):\n",
        " image_dataset=[]\n",
        " for j in dataframe[0]:\n",
        "     list_j=word_tokenize(j)\n",
        "     for ch in list_j:\n",
        "         images=[]\n",
        "         for chs in (ch):\n",
        "             img=dict1[chs]\n",
        "             images.append(img)\n",
        "                \n",
        "         image_list=np.concatenate(images,axis=1)\n",
        "         image_dataset.append(image_list)\n",
        "     if len(list_j)<5:\n",
        "      for i in range(len(list_j),5):\n",
        "            image_dataset.append(dict1[' '])\n",
        "         \n",
        " return image_dataset        \n",
        "\n",
        "\n",
        "df1=convert_to_images_re(data_train)"
      ],
      "execution_count": null,
      "outputs": []
    },
    {
      "cell_type": "code",
      "metadata": {
        "id": "FdeQb7XJdnwM"
      },
      "source": [
        "df2=convert_to_images_re(data_test)"
      ],
      "execution_count": null,
      "outputs": []
    },
    {
      "cell_type": "code",
      "metadata": {
        "id": "3NcU3sapzM07"
      },
      "source": [
        "data_train"
      ],
      "execution_count": null,
      "outputs": []
    },
    {
      "cell_type": "code",
      "metadata": {
        "id": "1EUSRaZY29M_"
      },
      "source": [
        "plt.imshow(df1[5])"
      ],
      "execution_count": null,
      "outputs": []
    },
    {
      "cell_type": "code",
      "metadata": {
        "id": "WJqFa4DXdJar"
      },
      "source": [
        "import matplotlib.pyplot as plt\n",
        "plt.imshow(df1[3])\n",
        "len(df1[1][-1])"
      ],
      "execution_count": null,
      "outputs": []
    },
    {
      "cell_type": "code",
      "metadata": {
        "id": "n2HvNPVodJeN"
      },
      "source": [
        "max_len=26\n",
        "list2=[]\n",
        "for i in range(0,len(df1)):\n",
        "    print(i)\n",
        "    im_length=int(len(df1[i][-1])/6)\n",
        "    for j in range(im_length,max_len):\n",
        "        list2.append(dict1[' '])\n",
        "    list2=np.concatenate(list2,axis=1)\n",
        "    df1[i]=np.concatenate((df1[i],list2),axis=1)\n",
        "    list2=[]"
      ],
      "execution_count": null,
      "outputs": []
    },
    {
      "cell_type": "code",
      "metadata": {
        "id": "pu0R6mZ64InX"
      },
      "source": [
        "max_len=26\n",
        "list3=[]\n",
        "for i in range(0,len(df2)):\n",
        "    print(i)\n",
        "    im_length=int(len(df2[i][-1])/6)\n",
        "    for j in range(im_length,max_len):\n",
        "        list3.append(dict1[' '])\n",
        "    list3=np.concatenate(list3,axis=1)\n",
        "    df2[i]=np.concatenate((df2[i],list3),axis=1)\n",
        "    list3=[]"
      ],
      "execution_count": null,
      "outputs": []
    },
    {
      "cell_type": "code",
      "metadata": {
        "id": "sqMplYI1wdZA"
      },
      "source": [
        "model=Sequential()\n",
        "model.add(TimeDistributed(Conv2D(32, (3,3), \n",
        "            padding='same', strides=(2,2), activation='relu'),\n",
        "        input_shape = (5, 10, 156, 1)))\n",
        "model.add(TimeDistributed(Conv2D(64, (3,3), \n",
        "            padding='same', strides=(2,2), activation='relu')))\n",
        "model.add(TimeDistributed(Conv2D(128, (3,3), \n",
        "            padding='same', strides=(2,2), activation='relu')))\n",
        "\n",
        "\n",
        "model.add(\n",
        "    TimeDistributed(\n",
        "        GlobalAveragePooling2D() # Or Flatten()\n",
        "    ))\n",
        "model.add(LSTM(1024,activation='relu',return_sequences=False))\n",
        "model.add(Dense(1024,activation='relu'))\n",
        "model.add(Dropout(0.5))\n",
        "model.add(Dense(1,activation='sigmoid'))\n"
      ],
      "execution_count": null,
      "outputs": []
    },
    {
      "cell_type": "code",
      "metadata": {
        "id": "-YFSkgTUweHX"
      },
      "source": [
        "model2=Sequential()\n",
        "model2.add(TimeDistributed(Conv2D(32, (3,3), \n",
        "            padding='same', strides=(2,2), activation='relu'),\n",
        "        input_shape = (5, 10, 156, 1)))\n",
        "model2.add(TimeDistributed(Conv2D(64, (3,3), \n",
        "            padding='same', strides=(2,2), activation='relu')))\n",
        "model2.add(TimeDistributed(Conv2D(128, (3,3), \n",
        "            padding='same', strides=(1,1), activation='relu')))\n",
        "model2.add(TimeDistributed(MaxPooling2D((2,2),strides=(2,2))))\n",
        "model2.add(Flatten())\n",
        "model2.add(Dense(1054,activation='relu'))\n",
        "model2.add(Dense(1,activation='softmax'))"
      ],
      "execution_count": null,
      "outputs": []
    },
    {
      "cell_type": "code",
      "metadata": {
        "id": "obHecJ1Ewjur"
      },
      "source": [
        "model.compile('adam', loss='binary_crossentropy',metrics=['accuracy'])"
      ],
      "execution_count": null,
      "outputs": []
    },
    {
      "cell_type": "code",
      "metadata": {
        "id": "76O_K1e2wkc4"
      },
      "source": [
        "dfs=np.array(df1)"
      ],
      "execution_count": null,
      "outputs": []
    },
    {
      "cell_type": "code",
      "metadata": {
        "id": "xoEKTk9yCTJt"
      },
      "source": [
        "dfs.shape"
      ],
      "execution_count": null,
      "outputs": []
    },
    {
      "cell_type": "code",
      "metadata": {
        "id": "eHmDWfaHwmvM"
      },
      "source": [
        "dfs=dfs.reshape(-1,10,156,1)"
      ],
      "execution_count": null,
      "outputs": []
    },
    {
      "cell_type": "code",
      "metadata": {
        "id": "5fkzkqT8wpBB"
      },
      "source": [
        "dfs=dfs.reshape(-1,5,10,156,1)"
      ],
      "execution_count": null,
      "outputs": []
    },
    {
      "cell_type": "code",
      "metadata": {
        "id": "gv2C6CDRzq6f"
      },
      "source": [
        "dfs.shape"
      ],
      "execution_count": null,
      "outputs": []
    },
    {
      "cell_type": "code",
      "metadata": {
        "id": "wT8ELFpYfOOf"
      },
      "source": [
        "  from sklearn.metrics import confusion_matrix\n",
        "  import itertools"
      ],
      "execution_count": null,
      "outputs": []
    },
    {
      "cell_type": "code",
      "metadata": {
        "id": "HXRv4cPiwqzN",
        "colab": {
          "base_uri": "https://localhost:8080/",
          "height": 1000
        },
        "outputId": "26f5b073-e140-4437-d6cb-adefae0fd7e7"
      },
      "source": [
        "model.fit(dfs,label_train,validation_split=0.2,batch_size=100,epochs=40)"
      ],
      "execution_count": null,
      "outputs": [
        {
          "output_type": "stream",
          "text": [
            "Train on 7353 samples, validate on 1839 samples\n",
            "Epoch 1/40\n",
            "7353/7353 [==============================] - 9s 1ms/step - loss: 0.5046 - accuracy: 0.7970 - val_loss: 0.4882 - val_accuracy: 0.7890\n",
            "Epoch 2/40\n",
            "7353/7353 [==============================] - 3s 343us/step - loss: 0.4734 - accuracy: 0.7993 - val_loss: 0.4819 - val_accuracy: 0.7890\n",
            "Epoch 3/40\n",
            "7353/7353 [==============================] - 3s 341us/step - loss: 0.4552 - accuracy: 0.8154 - val_loss: 0.4394 - val_accuracy: 0.8146\n",
            "Epoch 4/40\n",
            "7353/7353 [==============================] - 3s 345us/step - loss: 0.4069 - accuracy: 0.8391 - val_loss: 0.4277 - val_accuracy: 0.8363\n",
            "Epoch 5/40\n",
            "7353/7353 [==============================] - 2s 338us/step - loss: 0.3811 - accuracy: 0.8505 - val_loss: 0.3951 - val_accuracy: 0.8374\n",
            "Epoch 6/40\n",
            "7353/7353 [==============================] - 2s 337us/step - loss: 0.3709 - accuracy: 0.8534 - val_loss: 0.3844 - val_accuracy: 0.8461\n",
            "Epoch 7/40\n",
            "7353/7353 [==============================] - 2s 334us/step - loss: 0.3590 - accuracy: 0.8592 - val_loss: 0.3637 - val_accuracy: 0.8592\n",
            "Epoch 8/40\n",
            "7353/7353 [==============================] - 3s 348us/step - loss: 0.3493 - accuracy: 0.8664 - val_loss: 0.3787 - val_accuracy: 0.8575\n",
            "Epoch 9/40\n",
            "7353/7353 [==============================] - 2s 333us/step - loss: 0.3457 - accuracy: 0.8678 - val_loss: 0.3570 - val_accuracy: 0.8575\n",
            "Epoch 10/40\n",
            "7353/7353 [==============================] - 2s 338us/step - loss: 0.3380 - accuracy: 0.8688 - val_loss: 0.3500 - val_accuracy: 0.8641\n",
            "Epoch 11/40\n",
            "7353/7353 [==============================] - 2s 340us/step - loss: 0.3304 - accuracy: 0.8709 - val_loss: 0.3436 - val_accuracy: 0.8668\n",
            "Epoch 12/40\n",
            "7353/7353 [==============================] - 3s 340us/step - loss: 0.3275 - accuracy: 0.8704 - val_loss: 0.3434 - val_accuracy: 0.8700\n",
            "Epoch 13/40\n",
            "7353/7353 [==============================] - 2s 336us/step - loss: 0.3171 - accuracy: 0.8742 - val_loss: 0.3377 - val_accuracy: 0.8641\n",
            "Epoch 14/40\n",
            "7353/7353 [==============================] - 3s 340us/step - loss: 0.3131 - accuracy: 0.8743 - val_loss: 0.3608 - val_accuracy: 0.8603\n",
            "Epoch 15/40\n",
            "7353/7353 [==============================] - 2s 338us/step - loss: 0.3050 - accuracy: 0.8758 - val_loss: 0.3296 - val_accuracy: 0.8711\n",
            "Epoch 16/40\n",
            "7353/7353 [==============================] - 3s 340us/step - loss: 0.3013 - accuracy: 0.8783 - val_loss: 0.3245 - val_accuracy: 0.8657\n",
            "Epoch 17/40\n",
            "7353/7353 [==============================] - 2s 335us/step - loss: 0.2965 - accuracy: 0.8784 - val_loss: 0.3278 - val_accuracy: 0.8662\n",
            "Epoch 18/40\n",
            "7353/7353 [==============================] - 2s 336us/step - loss: 0.2894 - accuracy: 0.8799 - val_loss: 0.3426 - val_accuracy: 0.8619\n",
            "Epoch 19/40\n",
            "7353/7353 [==============================] - 3s 342us/step - loss: 0.2857 - accuracy: 0.8798 - val_loss: 0.3305 - val_accuracy: 0.8706\n",
            "Epoch 20/40\n",
            "7353/7353 [==============================] - 3s 342us/step - loss: 0.2815 - accuracy: 0.8821 - val_loss: 0.3475 - val_accuracy: 0.8564\n",
            "Epoch 21/40\n",
            "7353/7353 [==============================] - 2s 337us/step - loss: 0.2819 - accuracy: 0.8848 - val_loss: 0.3250 - val_accuracy: 0.8706\n",
            "Epoch 22/40\n",
            "7353/7353 [==============================] - 2s 332us/step - loss: 0.2713 - accuracy: 0.8897 - val_loss: 0.3296 - val_accuracy: 0.8695\n",
            "Epoch 23/40\n",
            "7353/7353 [==============================] - 3s 345us/step - loss: 0.2677 - accuracy: 0.8877 - val_loss: 0.3213 - val_accuracy: 0.8744\n",
            "Epoch 24/40\n",
            "7353/7353 [==============================] - 3s 342us/step - loss: 0.2652 - accuracy: 0.8900 - val_loss: 0.3167 - val_accuracy: 0.8749\n",
            "Epoch 25/40\n",
            "7353/7353 [==============================] - 3s 344us/step - loss: 0.2563 - accuracy: 0.8930 - val_loss: 0.3393 - val_accuracy: 0.8695\n",
            "Epoch 26/40\n",
            "7353/7353 [==============================] - 2s 339us/step - loss: 0.2552 - accuracy: 0.8919 - val_loss: 0.3201 - val_accuracy: 0.8831\n",
            "Epoch 27/40\n",
            "7353/7353 [==============================] - 3s 345us/step - loss: 0.2530 - accuracy: 0.8964 - val_loss: 0.3236 - val_accuracy: 0.8798\n",
            "Epoch 28/40\n",
            "7353/7353 [==============================] - 3s 340us/step - loss: 0.2457 - accuracy: 0.8972 - val_loss: 0.3182 - val_accuracy: 0.8787\n",
            "Epoch 29/40\n",
            "7353/7353 [==============================] - 2s 337us/step - loss: 0.2390 - accuracy: 0.9003 - val_loss: 0.3308 - val_accuracy: 0.8728\n",
            "Epoch 30/40\n",
            "7353/7353 [==============================] - 3s 346us/step - loss: 0.2303 - accuracy: 0.9044 - val_loss: 0.3640 - val_accuracy: 0.8526\n",
            "Epoch 31/40\n",
            "7353/7353 [==============================] - 2s 336us/step - loss: 0.2269 - accuracy: 0.9070 - val_loss: 0.3577 - val_accuracy: 0.8777\n",
            "Epoch 32/40\n",
            "7353/7353 [==============================] - 2s 334us/step - loss: 0.2244 - accuracy: 0.9072 - val_loss: 0.3378 - val_accuracy: 0.8831\n",
            "Epoch 33/40\n",
            "7353/7353 [==============================] - 2s 340us/step - loss: 0.2116 - accuracy: 0.9131 - val_loss: 0.3581 - val_accuracy: 0.8679\n",
            "Epoch 34/40\n",
            "7353/7353 [==============================] - 3s 341us/step - loss: 0.2258 - accuracy: 0.9041 - val_loss: 0.3531 - val_accuracy: 0.8809\n",
            "Epoch 35/40\n",
            "7353/7353 [==============================] - 2s 335us/step - loss: 0.2148 - accuracy: 0.9120 - val_loss: 0.3525 - val_accuracy: 0.8548\n",
            "Epoch 36/40\n",
            "7353/7353 [==============================] - 3s 342us/step - loss: 0.2086 - accuracy: 0.9151 - val_loss: 0.3517 - val_accuracy: 0.8657\n",
            "Epoch 37/40\n",
            "7353/7353 [==============================] - 3s 352us/step - loss: 0.1902 - accuracy: 0.9228 - val_loss: 0.3474 - val_accuracy: 0.8777\n",
            "Epoch 38/40\n",
            "7353/7353 [==============================] - 3s 343us/step - loss: 0.1792 - accuracy: 0.9296 - val_loss: 0.3691 - val_accuracy: 0.8673\n",
            "Epoch 39/40\n",
            "7353/7353 [==============================] - 2s 336us/step - loss: 0.1740 - accuracy: 0.9304 - val_loss: 0.3987 - val_accuracy: 0.8733\n",
            "Epoch 40/40\n",
            "7353/7353 [==============================] - 3s 346us/step - loss: 0.1710 - accuracy: 0.9330 - val_loss: 0.3561 - val_accuracy: 0.8646\n"
          ],
          "name": "stdout"
        },
        {
          "output_type": "execute_result",
          "data": {
            "text/plain": [
              "<keras.callbacks.callbacks.History at 0x7f08e01c5828>"
            ]
          },
          "metadata": {
            "tags": []
          },
          "execution_count": 49
        }
      ]
    },
    {
      "cell_type": "code",
      "metadata": {
        "id": "YsM8HEsuxNxP"
      },
      "source": [
        "dfs2=np.array(df2)"
      ],
      "execution_count": null,
      "outputs": []
    },
    {
      "cell_type": "code",
      "metadata": {
        "id": "9r7IwAqJ5VT-"
      },
      "source": [
        "dfs2.shape"
      ],
      "execution_count": null,
      "outputs": []
    },
    {
      "cell_type": "code",
      "metadata": {
        "id": "Cct6zTmtxTzE"
      },
      "source": [
        "dfs2=dfs2.reshape(-1, 10, 156,1)"
      ],
      "execution_count": null,
      "outputs": []
    },
    {
      "cell_type": "code",
      "metadata": {
        "id": "SXgeJQfK5nJk"
      },
      "source": [
        "dfs2=dfs2.reshape(-1,5,10,156,1)"
      ],
      "execution_count": null,
      "outputs": []
    },
    {
      "cell_type": "code",
      "metadata": {
        "id": "ePhurzU4EfI6",
        "colab": {
          "base_uri": "https://localhost:8080/",
          "height": 35
        },
        "outputId": "7b09059d-5b8d-41ce-ebd2-78389e3f7f94"
      },
      "source": [
        "dfs2.shape"
      ],
      "execution_count": null,
      "outputs": [
        {
          "output_type": "execute_result",
          "data": {
            "text/plain": [
              "(2298, 5, 10, 156, 1)"
            ]
          },
          "metadata": {
            "tags": []
          },
          "execution_count": 53
        }
      ]
    },
    {
      "cell_type": "code",
      "metadata": {
        "id": "YZJa7gV-xWnp"
      },
      "source": [
        "predictions=model.predict(dfs2)"
      ],
      "execution_count": null,
      "outputs": []
    },
    {
      "cell_type": "code",
      "metadata": {
        "id": "rGZGDviYEGxq"
      },
      "source": [
        "predictions"
      ],
      "execution_count": null,
      "outputs": []
    },
    {
      "cell_type": "code",
      "metadata": {
        "id": "7k2QcyPpxZH_"
      },
      "source": [
        "for i in range(0,len(predictions)):\n",
        "   if predictions[i]>0.5:\n",
        "     predictions[i]=1\n",
        "   else:\n",
        "     predictions[i]=0\n",
        "  "
      ],
      "execution_count": null,
      "outputs": []
    },
    {
      "cell_type": "code",
      "metadata": {
        "id": "nIG2VA8SxbFV",
        "colab": {
          "base_uri": "https://localhost:8080/",
          "height": 35
        },
        "outputId": "fe0996b2-e89e-4000-ece6-d33878be2af0"
      },
      "source": [
        "results=model.evaluate(dfs2,label_test)"
      ],
      "execution_count": null,
      "outputs": [
        {
          "output_type": "stream",
          "text": [
            "2298/2298 [==============================] - 0s 130us/step\n"
          ],
          "name": "stdout"
        }
      ]
    },
    {
      "cell_type": "code",
      "metadata": {
        "id": "ZtG3u2v5xeI5",
        "colab": {
          "base_uri": "https://localhost:8080/",
          "height": 35
        },
        "outputId": "b12a103d-3b03-46d1-8efc-2fa3d5340646"
      },
      "source": [
        "results"
      ],
      "execution_count": null,
      "outputs": [
        {
          "output_type": "execute_result",
          "data": {
            "text/plain": [
              "[0.3812267705733305, 0.855091392993927]"
            ]
          },
          "metadata": {
            "tags": []
          },
          "execution_count": 58
        }
      ]
    },
    {
      "cell_type": "code",
      "metadata": {
        "id": "EzMDGKF8xfbH"
      },
      "source": [
        "  from sklearn.metrics import confusion_matrix\n",
        "  import itertools"
      ],
      "execution_count": null,
      "outputs": []
    },
    {
      "cell_type": "code",
      "metadata": {
        "id": "DN5-qc3HZ1Np"
      },
      "source": [
        "label_test"
      ],
      "execution_count": null,
      "outputs": []
    },
    {
      "cell_type": "code",
      "metadata": {
        "id": "6jHYrLBZxgzO"
      },
      "source": [
        "label_test_array=np.array(label_test)"
      ],
      "execution_count": null,
      "outputs": []
    },
    {
      "cell_type": "code",
      "metadata": {
        "id": "qVFDacvZcrsL"
      },
      "source": [
        "label_test_array"
      ],
      "execution_count": null,
      "outputs": []
    },
    {
      "cell_type": "code",
      "metadata": {
        "id": "gCeHopqEXPcQ"
      },
      "source": [
        "label_test_array(np.array(label_test))"
      ],
      "execution_count": null,
      "outputs": []
    },
    {
      "cell_type": "markdown",
      "metadata": {
        "id": "W3UT1fvpXOZd"
      },
      "source": [
        ""
      ]
    },
    {
      "cell_type": "code",
      "metadata": {
        "id": "JycRQxpfSXiu"
      },
      "source": [
        "label_test"
      ],
      "execution_count": null,
      "outputs": []
    },
    {
      "cell_type": "code",
      "metadata": {
        "id": "xEU5Ca0TSL5O",
        "colab": {
          "base_uri": "https://localhost:8080/",
          "height": 139
        },
        "outputId": "37df2053-2bb7-4b96-cc87-cadb7347061a"
      },
      "source": [
        "label_test_array"
      ],
      "execution_count": null,
      "outputs": [
        {
          "output_type": "execute_result",
          "data": {
            "text/plain": [
              "array([[0],\n",
              "       [0],\n",
              "       [0],\n",
              "       ...,\n",
              "       [0],\n",
              "       [0],\n",
              "       [0]])"
            ]
          },
          "metadata": {
            "tags": []
          },
          "execution_count": 62
        }
      ]
    },
    {
      "cell_type": "code",
      "metadata": {
        "id": "t3h9q6JFXNgU"
      },
      "source": [
        ""
      ],
      "execution_count": null,
      "outputs": []
    },
    {
      "cell_type": "code",
      "metadata": {
        "id": "UeYICbe8xohv"
      },
      "source": [
        "for i in predictions:\n",
        "  print(i)"
      ],
      "execution_count": null,
      "outputs": []
    },
    {
      "cell_type": "code",
      "metadata": {
        "id": "DOOSRQbaxqkU"
      },
      "source": [
        "cm = confusion_matrix(label_test_array,predictions)"
      ],
      "execution_count": null,
      "outputs": []
    },
    {
      "cell_type": "markdown",
      "metadata": {
        "id": "w5oqjB4aeoRV"
      },
      "source": [
        ""
      ]
    },
    {
      "cell_type": "code",
      "metadata": {
        "id": "i9NAPc98xrVf"
      },
      "source": [
        "def plot_confusion_matrix(cm,classes,normalize=False,title='confusion_matrix',cmap=plt.cm.Blues):\n",
        "    plt.imshow(cm,interpolation='nearest',cmap=cmap)\n",
        "    plt.title(title)\n",
        "    plt.colorbar()\n",
        "    tick_marks=np.arange(len(classes))\n",
        "    plt.xticks(tick_marks,classes,rotation=45)\n",
        "    plt.yticks(tick_marks,classes)\n",
        "    \n",
        "    if normalize:\n",
        "        cm=cm.astype('float') / cm.sum(axis=1)[:,np.newaxis]\n",
        "        print('normalized confusion matrix')\n",
        "    else:\n",
        "        print('confusion matrix,without normalization')\n",
        "    print(cm)\n",
        "    \n",
        "    thresh=cm.max()/2.\n",
        "    for i,j in itertools.product(range(cm.shape[0]),range(cm.shape[1])):\n",
        "        plt.text(j,i,cm[i,j], \n",
        "                 horizontalalignment=\"center\",\n",
        "                 color='white' if cm[i,j] > thresh else 'black')\n",
        "    plt.tight_layout()\n",
        "    plt.ylabel('true_label')\n",
        "    plt.xlabel('predicted_label')"
      ],
      "execution_count": null,
      "outputs": []
    },
    {
      "cell_type": "code",
      "metadata": {
        "id": "BixxCm3sxuS0",
        "colab": {
          "base_uri": "https://localhost:8080/",
          "height": 364
        },
        "outputId": "71e53f8b-2613-4263-ad63-f8618222a826"
      },
      "source": [
        "cm_plot_labels=['negative','positive']\n",
        "plot_confusion_matrix(cm,cm_plot_labels,title='Confusion_matirx')"
      ],
      "execution_count": null,
      "outputs": [
        {
          "output_type": "stream",
          "text": [
            "confusion matrix,without normalization\n",
            "[[1654  162]\n",
            " [ 171  311]]\n"
          ],
          "name": "stdout"
        },
        {
          "output_type": "display_data",
          "data": {
            "image/png": "[encoded data removed]",
            "text/plain": [
              "<Figure size 432x288 with 2 Axes>"
            ]
          },
          "metadata": {
            "tags": [],
            "needs_background": "light"
          }
        }
      ]
    },
    {
      "cell_type": "code",
      "metadata": {
        "id": "pmOM79uPxwtU",
        "colab": {
          "base_uri": "https://localhost:8080/",
          "height": 173
        },
        "outputId": "79f0379c-daa6-45fc-b75b-f5a956701b10"
      },
      "source": [
        "from sklearn.metrics import classification_report\n",
        "print(classification_report(label_test_array,predictions))"
      ],
      "execution_count": null,
      "outputs": [
        {
          "output_type": "stream",
          "text": [
            "              precision    recall  f1-score   support\n",
            "\n",
            "           0       0.91      0.91      0.91      1816\n",
            "           1       0.66      0.65      0.65       482\n",
            "\n",
            "    accuracy                           0.86      2298\n",
            "   macro avg       0.78      0.78      0.78      2298\n",
            "weighted avg       0.85      0.86      0.85      2298\n",
            "\n"
          ],
          "name": "stdout"
        }
      ]
    }
  ]
}