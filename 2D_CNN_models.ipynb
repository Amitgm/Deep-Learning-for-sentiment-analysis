{
  "nbformat": 4,
  "nbformat_minor": 0,
  "metadata": {
    "colab": {
      "name": "2D CNN models",
      "provenance": [],
      "collapsed_sections": [],
      "authorship_tag": "ABX9TyNQOXtdwek3dsJElphL1gQN",
      "include_colab_link": true
    },
    "kernelspec": {
      "name": "python3",
      "display_name": "Python 3"
    },
    "accelerator": "GPU"
  },
  "cells": [
    {
      "cell_type": "markdown",
      "metadata": {
        "id": "view-in-github",
        "colab_type": "text"
      },
      "source": [
        "<a href=\"https://colab.research.google.com/github/Amitgm/Deep-Learning-for-sentiment-analysis/blob/main/2D_CNN_models.ipynb\" target=\"_parent\"><img src=\"https://colab.research.google.com/assets/colab-badge.svg\" alt=\"Open In Colab\"/></a>"
      ]
    },
    {
      "cell_type": "code",
      "metadata": {
        "id": "AObaOU3FIeUf",
        "colab": {
          "base_uri": "https://localhost:8080/",
          "height": 104
        },
        "outputId": "23a5da7e-8dca-474c-f063-280851788e47"
      },
      "source": [
        "from sklearn.model_selection import train_test_split\n",
        "import numpy as np\n",
        "import keras\n",
        "from keras.models import Sequential\n",
        "from keras.layers.core import Dense,Flatten,Dropout\n",
        "from keras.layers import Activation,Embedding,TimeDistributed,LSTM,GlobalAveragePooling2D\n",
        "from keras.optimizers import Adam\n",
        "from keras.metrics import categorical_crossentropy\n",
        "from keras.layers.convolutional import *\n",
        "from keras.layers.normalization import BatchNormalization\n",
        "from keras.preprocessing.image import ImageDataGenerator\n",
        "import matplotlib.pyplot as plt\n",
        "import pandas as pd\n",
        "from keras.preprocessing import text\n",
        "from keras.preprocessing import sequence\n",
        "import re\n",
        "from nltk.corpus import stopwords\n",
        "import nltk\n",
        "from nltk.tokenize.treebank import TreebankWordDetokenizer\n",
        "from nltk.tokenize import word_tokenize\n",
        "from tqdm import tqdm\n",
        "nltk.download('stopwords')\n",
        "nltk.download('punkt')\n",
        "from keras.applications.vgg16 import VGG16\n",
        "from PIL import Image\n",
        "from numba import jit, cuda\n",
        "import keras.models"
      ],
      "execution_count": null,
      "outputs": [
        {
          "output_type": "stream",
          "text": [
            "Using TensorFlow backend.\n"
          ],
          "name": "stderr"
        },
        {
          "output_type": "stream",
          "text": [
            "[nltk_data] Downloading package stopwords to /root/nltk_data...\n",
            "[nltk_data]   Unzipping corpora/stopwords.zip.\n",
            "[nltk_data] Downloading package punkt to /root/nltk_data...\n",
            "[nltk_data]   Unzipping tokenizers/punkt.zip.\n"
          ],
          "name": "stdout"
        }
      ]
    },
    {
      "cell_type": "code",
      "metadata": {
        "id": "TgGOcjSpI0RF"
      },
      "source": [
        "img1=np.array([0,0,0,0,0,0,0,0,1,0,0,0,0,1,0,1,0,0,1,0,0,0,1,0,1,0,0,0,1,0,1,1,1,1,1,0,1,0,0,0,1,0,1,0,0,0,1,0,0,0,0,0,0,0,0,0,0,0,0,0])\n",
        "img2=np.array([0,0,0,0,0,0,1,1,1,1,0,0,1,0,0,0,1,0,1,0,0,0,1,0,1,1,1,1,0,0,1,0,0,0,1,0,1,0,0,0,1,0,1,1,1,1,0,0,0,0,0,0,0,0,0,0,0,0,0,0])\n",
        "img3=np.array([0,0,0,0,0,0,0,1,1,1,0,0,1,0,0,0,1,0,1,0,0,0,0,0,1,0,0,0,0,0,1,0,0,0,0,0,1,0,0,0,1,0,0,1,1,1,0,0,0,0,0,0,0,0,0,0,0,0,0,0])\n",
        "img4=np.array([0,0,0,0,0,0,1,1,1,1,0,0,1,0,0,0,1,0,1,0,0,0,1,0,1,0,0,0,1,0,1,0,0,0,1,0,1,0,0,0,1,0,1,1,1,1,0,0,0,0,0,0,0,0,0,0,0,0,0,0])\n",
        "img5=np.array([0,0,0,0,0,0,1,1,1,1,1,0,1,0,0,0,0,0,1,0,0,0,0,0,1,1,1,1,0,0,1,0,0,0,0,0,1,0,0,0,0,0,1,1,1,1,1,0,0,0,0,0,0,0,0,0,0,0,0,0])\n",
        "img6=np.array([0,0,0,0,0,0,1,1,1,1,1,0,1,0,0,0,0,0,1,0,0,0,0,0,1,1,1,1,0,0,1,0,0,0,0,0,1,0,0,0,0,0,1,0,0,0,0,0,0,0,0,0,0,0,0,0,0,0,0,0])\n",
        "img7=np.array([0,0,0,0,0,0,0,1,1,1,0,0,1,0,0,0,1,0,1,0,0,0,0,0,1,0,0,0,0,0,1,0,1,1,1,0,1,0,0,0,1,0,0,1,1,1,0,0,0,0,0,0,0,0,0,0,0,0,0,0])\n",
        "img8=np.array([0,0,0,0,0,0,1,0,0,0,1,0,1,0,0,0,1,0,1,0,0,0,1,0,1,1,1,1,1,0,1,0,0,0,1,0,1,0,0,0,1,0,1,0,0,0,1,0,0,0,0,0,0,0,0,0,0,0,0,0])\n",
        "img9=np.array([0,0,0,0,0,0,1,1,1,1,1,1,0,0,1,0,0,0,0,0,1,0,0,0,0,0,1,0,0,0,0,0,1,0,0,0,0,0,1,0,0,0,1,1,1,1,1,1,0,0,0,0,0,0,0,0,0,0,0,0])\n",
        "img10=np.array([0,0,0,0,0,0,0,0,0,0,1,0,0,0,0,0,1,0,0,0,0,0,1,0,0,0,0,0,1,0,0,0,0,0,1,0,1,0,0,0,1,0,0,1,1,1,0,0,0,0,0,0,0,0,0,0,0,0,0,0])\n",
        "img11=np.array([0,0,0,0,0,0,1,0,0,0,1,0,1,0,0,1,0,0,1,0,1,0,0,0,1,1,0,0,0,0,1,0,1,0,0,0,1,0,0,1,0,0,1,0,0,0,1,0,0,0,0,0,0,0,0,0,0,0,0,0])\n",
        "img12=np.array([0,0,0,0,0,0,1,0,0,0,0,0,1,0,0,0,0,0,1,0,0,0,0,0,1,0,0,0,0,0,1,0,0,0,0,0,1,0,0,0,0,0,1,1,1,1,1,0,0,0,0,0,0,0,0,0,0,0,0,0])\n",
        "img13=np.array([0,0,0,0,0,0,0,1,0,1,0,0,1,0,1,0,1,0,1,0,1,0,1,0,1,0,1,0,1,0,1,0,0,0,1,0,1,0,0,0,1,0,1,0,0,0,1,0,0,0,0,0,0,0,0,0,0,0,0,0])\n",
        "img14=np.array([0,0,0,0,0,0,1,0,0,0,1,0,1,0,0,0,1,0,1,1,0,0,1,0,1,0,1,0,1,0,1,0,0,1,1,0,1,0,0,0,1,0,1,0,0,0,1,0,0,0,0,0,0,0,0,0,0,0,0,0])\n",
        "img15=np.array([0,0,0,0,0,0,0,1,1,1,0,0,1,0,0,0,1,0,1,0,0,0,1,0,1,0,0,0,1,0,1,0,0,0,1,0,1,0,0,0,1,0,0,1,1,1,0,0,0,0,0,0,0,0,0,0,0,0,0,0])\n",
        "img16=np.array([0,0,0,0,0,0,1,1,1,1,0,0,1,0,0,0,1,0,1,0,0,0,1,0,1,1,1,1,0,0,1,0,0,0,0,0,1,0,0,0,0,0,1,0,0,0,0,0,0,0,0,0,0,0,0,0,0,0,0,0])\n",
        "img17=np.array([0,0,0,0,0,0,0,1,1,1,0,0,1,0,0,0,1,0,1,0,0,0,1,0,1,0,0,0,1,0,1,0,1,0,1,0,1,0,0,1,1,0,0,1,1,1,1,0,0,0,0,0,0,0,0,0,0,0,0,0])\n",
        "img18=np.array([0,0,0,0,0,0,1,1,1,1,0,0,1,0,0,0,1,0,1,0,0,0,1,0,1,1,1,1,0,0,1,0,1,0,0,0,1,0,0,1,0,0,1,0,0,0,1,0,0,0,0,0,0,0,0,0,0,0,0,0])\n",
        "img19=np.array([0,0,0,0,0,0,0,1,1,1,0,0,1,0,0,0,1,0,1,0,0,0,0,0,0,1,1,1,0,0,0,0,0,0,1,0,1,0,0,0,1,0,0,1,1,1,0,0,0,0,0,0,0,0,0,0,0,0,0,0])\n",
        "img20=np.array([0,0,0,0,0,0,1,1,1,1,1,0,0,0,1,0,0,0,0,0,1,0,0,0,0,0,1,0,0,0,0,0,1,0,0,0,0,0,1,0,0,0,0,0,1,0,0,0,0,0,0,0,0,0,0,0,0,0,0,0])\n",
        "img21=np.array([0,0,0,0,0,0,1,0,0,0,1,0,1,0,0,0,1,0,1,0,0,0,1,0,1,0,0,0,1,0,1,0,0,0,1,0,1,0,0,0,1,0,0,1,1,1,0,0,0,0,0,0,0,0,0,0,0,0,0,0])\n",
        "img22=np.array([0,0,0,0,0,0,1,0,0,0,1,0,1,0,0,0,1,0,1,0,0,0,1,0,1,0,0,0,1,0,1,0,0,0,1,0,0,1,0,1,0,0,0,0,1,0,0,0,0,0,0,0,0,0,0,0,0,0,0,0])\n",
        "img23=np.array([0,0,0,0,0,0,1,0,0,0,1,0,1,0,0,0,1,0,1,0,0,0,1,0,1,0,1,0,1,0,1,0,1,0,1,0,1,0,1,0,1,0,0,1,0,1,0,0,0,0,0,0,0,0,0,0,0,0,0,0])\n",
        "img24=np.array([0,0,0,0,0,0,1,0,0,0,1,0,1,0,0,0,1,0,0,1,0,1,0,0,0,0,1,0,0,0,0,1,0,1,0,0,1,0,0,0,1,0,1,0,0,0,1,0,0,0,0,0,0,0,0,0,0,0,0,0])\n",
        "img25=np.array([0,0,0,0,0,0,1,0,0,0,1,0,1,0,0,0,1,0,1,0,0,0,1,0,0,1,0,1,0,0,0,0,1,0,0,0,0,0,1,0,0,0,0,0,1,0,0,0,0,0,0,0,0,0,0,0,0,0,0,0])\n",
        "img26=np.array([0,0,0,0,0,0,1,1,1,1,1,0,0,0,0,0,1,0,0,0,0,1,0,0,0,0,1,0,0,0,0,1,0,0,0,0,1,0,0,0,0,0,1,1,1,1,1,0,0,0,0,0,0,0,0,0,0,0,0,0])\n",
        "img27=np.array([0,0,0,0,0,0,0,0,0,0,0,0,0,0,0,0,0,0,0,0,0,0,0,0,0,0,0,0,0,0,0,0,0,0,0,0,0,0,0,0,0,0,0,0,0,0,0,0,0,0,0,0,0,0,0,0,0,0,0,0])"
      ],
      "execution_count": null,
      "outputs": []
    },
    {
      "cell_type": "code",
      "metadata": {
        "id": "A0YBJUGeI1YA"
      },
      "source": [
        "img2=img2.reshape(10,6)\n",
        "img1=img1.reshape(10,6)\n",
        "img3=img3.reshape(10,6)\n",
        "img4=img4.reshape(10,6)\n",
        "img5=img5.reshape(10,6)\n",
        "img6=img6.reshape(10,6)\n",
        "img7=img7.reshape(10,6)\n",
        "img8=img8.reshape(10,6)\n",
        "img9=img9.reshape(10,6)\n",
        "img10=img10.reshape(10,6)\n",
        "img11=img11.reshape(10,6)\n",
        "img12=img12.reshape(10,6)\n",
        "img13=img13.reshape(10,6)\n",
        "img14=img14.reshape(10,6)\n",
        "img15=img15.reshape(10,6)\n",
        "img16=img16.reshape(10,6)\n",
        "img17=img17.reshape(10,6)\n",
        "img18=img18.reshape(10,6)\n",
        "img19=img19.reshape(10,6)\n",
        "img20=img20.reshape(10,6)\n",
        "img21=img21.reshape(10,6)\n",
        "img22=img22.reshape(10,6)\n",
        "img23=img23.reshape(10,6)\n",
        "img24=img24.reshape(10,6)\n",
        "img25=img25.reshape(10,6)\n",
        "img26=img26.reshape(10,6)\n",
        "img27=img27.reshape(10,6)"
      ],
      "execution_count": null,
      "outputs": []
    },
    {
      "cell_type": "code",
      "metadata": {
        "id": "QOF1-WbvI8IW"
      },
      "source": [
        "dict1={'A':img1,'B':img2,'C':img3,'D':img4,'E':img5,'F':img6,'G':img7,'H':img8,'I':img9,'J':img10,'K':img11,'L':img12,'M':img13,'N':img14,'O':img15,'P':img16,'Q':img17,'R':img18,'S':img19,'T':img20,'U':img21,'V':img22,'W':img23,'X':img24,'Y':img25,'Z':img26,' ':img27}"
      ],
      "execution_count": null,
      "outputs": []
    },
    {
      "cell_type": "code",
      "metadata": {
        "id": "GVnIVCiHJDDz",
        "colab": {
          "base_uri": "https://localhost:8080/",
          "height": 283
        },
        "outputId": "0d6840b9-04e8-4e8f-ff2b-f655f27c6886"
      },
      "source": [
        "plt.imshow(img1)"
      ],
      "execution_count": null,
      "outputs": [
        {
          "output_type": "execute_result",
          "data": {
            "text/plain": [
              "<matplotlib.image.AxesImage at 0x7f6847d98c88>"
            ]
          },
          "metadata": {
            "tags": []
          },
          "execution_count": 8
        },
        {
          "output_type": "display_data",
          "data": {
            "image/png": "[encoded data removed]",
            "text/plain": [
              "<Figure size 432x288 with 1 Axes>"
            ]
          },
          "metadata": {
            "tags": [],
            "needs_background": "light"
          }
        }
      ]
    },
    {
      "cell_type": "code",
      "metadata": {
        "id": "FlSKxwlIJGNw",
        "colab": {
          "base_uri": "https://localhost:8080/",
          "height": 124
        },
        "outputId": "a96b95f5-6671-45f1-8091-af3ac81d3817"
      },
      "source": [
        "from google.colab import drive\n",
        "drive.mount('/content/drive')"
      ],
      "execution_count": null,
      "outputs": [
        {
          "output_type": "stream",
          "text": [
            "Go to this URL in a browser: https://accounts.google.com/o/oauth2/auth?client_id=947318989803-6bn6qk8qdgf4n4g3pfee6491hc0brc4i.apps.googleusercontent.com&redirect_uri=urn%3aietf%3awg%3aoauth%3a2.0%3aoob&response_type=code&scope=email%20https%3a%2f%2fwww.googleapis.com%2fauth%2fdocs.test%20https%3a%2f%2fwww.googleapis.com%2fauth%2fdrive%20https%3a%2f%2fwww.googleapis.com%2fauth%2fdrive.photos.readonly%20https%3a%2f%2fwww.googleapis.com%2fauth%2fpeopleapi.readonly\n",
            "\n",
            "Enter your authorization code:\n",
            "··········\n",
            "Mounted at /content/drive\n"
          ],
          "name": "stdout"
        }
      ]
    },
    {
      "cell_type": "code",
      "metadata": {
        "id": "jxfeB3VDJRqd"
      },
      "source": [
        "dataset=pd.read_csv('/content/drive/My Drive/Tweets.csv')"
      ],
      "execution_count": null,
      "outputs": []
    },
    {
      "cell_type": "code",
      "metadata": {
        "id": "UrbQJ84iJVtr"
      },
      "source": [
        "dataset=dataset[dataset['airline_sentiment']!='neutral']"
      ],
      "execution_count": null,
      "outputs": []
    },
    {
      "cell_type": "code",
      "metadata": {
        "id": "BwjajyWZCZiq"
      },
      "source": [
        ""
      ],
      "execution_count": null,
      "outputs": []
    },
    {
      "cell_type": "code",
      "metadata": {
        "id": "cgBUUTL9JX2s"
      },
      "source": [
        "dataset=dataset.reset_index()\n",
        "dataset=dataset[['text','airline_sentiment']]"
      ],
      "execution_count": null,
      "outputs": []
    },
    {
      "cell_type": "code",
      "metadata": {
        "id": "PFLGtcmnCZFn"
      },
      "source": [
        ""
      ],
      "execution_count": null,
      "outputs": []
    },
    {
      "cell_type": "code",
      "metadata": {
        "id": "buyt0G1zJael"
      },
      "source": [
        "dataset_labels=pd.get_dummies(dataset.airline_sentiment)"
      ],
      "execution_count": null,
      "outputs": []
    },
    {
      "cell_type": "code",
      "metadata": {
        "id": "kvQ5imODJfPw"
      },
      "source": [
        "dataset_labels"
      ],
      "execution_count": null,
      "outputs": []
    },
    {
      "cell_type": "code",
      "metadata": {
        "id": "iQ6uKtg3JguQ"
      },
      "source": [
        "dataset=dataset['text']"
      ],
      "execution_count": null,
      "outputs": []
    },
    {
      "cell_type": "code",
      "metadata": {
        "id": "K6P7r4TeZ_0t",
        "colab": {
          "base_uri": "https://localhost:8080/",
          "height": 225
        },
        "outputId": "a777d110-57c0-45d1-8d78-cdcffc56b6ee"
      },
      "source": [
        "dataset"
      ],
      "execution_count": null,
      "outputs": [
        {
          "output_type": "execute_result",
          "data": {
            "text/plain": [
              "0        @VirginAmerica plus you've added commercials t...\n",
              "1        @VirginAmerica it's really aggressive to blast...\n",
              "2        @VirginAmerica and it's a really big bad thing...\n",
              "3        @VirginAmerica seriously would pay $30 a fligh...\n",
              "4        @VirginAmerica yes, nearly every time I fly VX...\n",
              "                               ...                        \n",
              "11536    @AmericanAir my flight was Cancelled Flightled...\n",
              "11537           @AmericanAir right on cue with the delays👌\n",
              "11538    @AmericanAir thank you we got on a different f...\n",
              "11539    @AmericanAir leaving over 20 minutes Late Flig...\n",
              "11540    @AmericanAir you have my money, you change my ...\n",
              "Name: text, Length: 11541, dtype: object"
            ]
          },
          "metadata": {
            "tags": []
          },
          "execution_count": 16
        }
      ]
    },
    {
      "cell_type": "code",
      "metadata": {
        "id": "PsJ0Mv-MJj0F"
      },
      "source": [
        "def process(data): \n",
        " text_dataframe=pd.DataFrame()\n",
        " text_list=[]\n",
        " word_list=[]  \n",
        " stop_words=set(stopwords.words(\"english\"))\n",
        " for i in tqdm(range(0,len(data))):\n",
        "    text1=re.sub(\"@[A-Za-z0-9]+\",\" \",data[i])\n",
        "    text1=re.sub(\"#[A-Za-z0-9]+\",\" \",text1)\n",
        "    text1=re.sub(\"http\\S+\",\" \",text1)\n",
        "    text1=re.sub(\"[^A-Za-z]+\",\" \",text1)\n",
        "    words=word_tokenize(text1)\n",
        "    for w in words:\n",
        "     if w not in stop_words:\n",
        "           word_list.append(w)\n",
        "    text1=TreebankWordDetokenizer().detokenize(word_list)\n",
        "    word_list=[]\n",
        "    text1=text1.upper()\n",
        "    text_list.append(text1)    \n",
        "\n",
        "      \n",
        "\n",
        "\n",
        " text_dataframe=text_dataframe.append(text_list)\n",
        "\n",
        " return text_dataframe\n",
        "      \n"
      ],
      "execution_count": null,
      "outputs": []
    },
    {
      "cell_type": "code",
      "metadata": {
        "id": "NwoOVrsIJmnQ",
        "colab": {
          "base_uri": "https://localhost:8080/",
          "height": 35
        },
        "outputId": "b0a3de5e-541b-4cb2-c1dd-bd2371cf54e7"
      },
      "source": [
        "procs_dataset=process(dataset)"
      ],
      "execution_count": null,
      "outputs": [
        {
          "output_type": "stream",
          "text": [
            "100%|██████████| 11541/11541 [00:03<00:00, 3220.81it/s]\n"
          ],
          "name": "stderr"
        }
      ]
    },
    {
      "cell_type": "code",
      "metadata": {
        "id": "8MFUpZr4HAaA"
      },
      "source": [
        "pro=procs_dataset[0]"
      ],
      "execution_count": null,
      "outputs": []
    },
    {
      "cell_type": "code",
      "metadata": {
        "id": "YgRoQbHZHFIP"
      },
      "source": [
        "vocab_size=1500\n",
        "tokenizer=text.Tokenizer(num_words=vocab_size)"
      ],
      "execution_count": null,
      "outputs": []
    },
    {
      "cell_type": "code",
      "metadata": {
        "id": "_D0nTPfTHLBY"
      },
      "source": [
        "tokenizer.fit_on_texts(pro)"
      ],
      "execution_count": null,
      "outputs": []
    },
    {
      "cell_type": "code",
      "metadata": {
        "id": "LHWMCeFnHPe_"
      },
      "source": [
        "sequences=tokenizer.texts_to_sequences(pro)"
      ],
      "execution_count": null,
      "outputs": []
    },
    {
      "cell_type": "code",
      "metadata": {
        "id": "8AhV_dnzHTCH"
      },
      "source": [
        "word=tokenizer.sequences_to_texts(sequences)"
      ],
      "execution_count": null,
      "outputs": []
    },
    {
      "cell_type": "code",
      "metadata": {
        "id": "2uVkuqSsHW9X"
      },
      "source": [
        "list_word=[]\n",
        "for w in word:\n",
        "   list_word.append(w.upper())"
      ],
      "execution_count": null,
      "outputs": []
    },
    {
      "cell_type": "code",
      "metadata": {
        "id": "nm0KnT7LHaY5"
      },
      "source": [
        "procs_dataset=pd.DataFrame(list_word)"
      ],
      "execution_count": null,
      "outputs": []
    },
    {
      "cell_type": "code",
      "metadata": {
        "id": "9K9pGilBJwxU"
      },
      "source": [
        "joined_data=pd.concat([procs_dataset,dataset_labels],axis=1)"
      ],
      "execution_count": null,
      "outputs": []
    },
    {
      "cell_type": "code",
      "metadata": {
        "id": "juAYntutJzs3"
      },
      "source": [
        "joined_data.replace('',np.nan,inplace=True)\n",
        "joined_data.dropna(axis=0,how='any',inplace=True)"
      ],
      "execution_count": null,
      "outputs": []
    },
    {
      "cell_type": "code",
      "metadata": {
        "id": "7Ysvtz4pJ11C"
      },
      "source": [
        "dataset=joined_data[0]"
      ],
      "execution_count": null,
      "outputs": []
    },
    {
      "cell_type": "code",
      "metadata": {
        "id": "I5fx1jMJJ29W"
      },
      "source": [
        "dataset=pd.DataFrame(dataset)"
      ],
      "execution_count": null,
      "outputs": []
    },
    {
      "cell_type": "code",
      "metadata": {
        "id": "fG5G86w6J5rc"
      },
      "source": [
        "dataset_labels=joined_data.iloc[:,1:4]"
      ],
      "execution_count": null,
      "outputs": []
    },
    {
      "cell_type": "code",
      "metadata": {
        "id": "H1MINlfwJ68i",
        "colab": {
          "base_uri": "https://localhost:8080/",
          "height": 415
        },
        "outputId": "bae2742e-8be9-4bba-fe10-08d14dc8e697"
      },
      "source": [
        "dataset"
      ],
      "execution_count": null,
      "outputs": [
        {
          "output_type": "execute_result",
          "data": {
            "text/html": [
              "<div>\n",
              "<style scoped>\n",
              "    .dataframe tbody tr th:only-of-type {\n",
              "        vertical-align: middle;\n",
              "    }\n",
              "\n",
              "    .dataframe tbody tr th {\n",
              "        vertical-align: top;\n",
              "    }\n",
              "\n",
              "    .dataframe thead th {\n",
              "        text-align: right;\n",
              "    }\n",
              "</style>\n",
              "<table border=\"1\" class=\"dataframe\">\n",
              "  <thead>\n",
              "    <tr style=\"text-align: right;\">\n",
              "      <th></th>\n",
              "      <th>0</th>\n",
              "    </tr>\n",
              "  </thead>\n",
              "  <tbody>\n",
              "    <tr>\n",
              "      <th>0</th>\n",
              "      <td>PLUS ADDED EXPERIENCE</td>\n",
              "    </tr>\n",
              "    <tr>\n",
              "      <th>1</th>\n",
              "      <td>REALLY ENTERTAINMENT AMP LITTLE</td>\n",
              "    </tr>\n",
              "    <tr>\n",
              "      <th>2</th>\n",
              "      <td>REALLY BIG BAD THING</td>\n",
              "    </tr>\n",
              "    <tr>\n",
              "      <th>3</th>\n",
              "      <td>SERIOUSLY WOULD PAY FLIGHT SEATS REALLY BAD TH...</td>\n",
              "    </tr>\n",
              "    <tr>\n",
              "      <th>4</th>\n",
              "      <td>YES NEARLY EVERY TIME I FLY GO AWAY</td>\n",
              "    </tr>\n",
              "    <tr>\n",
              "      <th>...</th>\n",
              "      <td>...</td>\n",
              "    </tr>\n",
              "    <tr>\n",
              "      <th>11536</th>\n",
              "      <td>FLIGHT CANCELLED FLIGHTLED LEAVING TOMORROW MO...</td>\n",
              "    </tr>\n",
              "    <tr>\n",
              "      <th>11537</th>\n",
              "      <td>RIGHT DELAYS</td>\n",
              "    </tr>\n",
              "    <tr>\n",
              "      <th>11538</th>\n",
              "      <td>THANK GOT DIFFERENT FLIGHT CHICAGO</td>\n",
              "    </tr>\n",
              "    <tr>\n",
              "      <th>11539</th>\n",
              "      <td>LEAVING MINUTES LATE FLIGHT NO COMMUNICATION M...</td>\n",
              "    </tr>\n",
              "    <tr>\n",
              "      <th>11540</th>\n",
              "      <td>MONEY CHANGE FLIGHT ANSWER PHONES ANY I MAKE</td>\n",
              "    </tr>\n",
              "  </tbody>\n",
              "</table>\n",
              "<p>11501 rows × 1 columns</p>\n",
              "</div>"
            ],
            "text/plain": [
              "                                                       0\n",
              "0                                  PLUS ADDED EXPERIENCE\n",
              "1                        REALLY ENTERTAINMENT AMP LITTLE\n",
              "2                                   REALLY BIG BAD THING\n",
              "3      SERIOUSLY WOULD PAY FLIGHT SEATS REALLY BAD TH...\n",
              "4                    YES NEARLY EVERY TIME I FLY GO AWAY\n",
              "...                                                  ...\n",
              "11536  FLIGHT CANCELLED FLIGHTLED LEAVING TOMORROW MO...\n",
              "11537                                       RIGHT DELAYS\n",
              "11538                 THANK GOT DIFFERENT FLIGHT CHICAGO\n",
              "11539  LEAVING MINUTES LATE FLIGHT NO COMMUNICATION M...\n",
              "11540       MONEY CHANGE FLIGHT ANSWER PHONES ANY I MAKE\n",
              "\n",
              "[11501 rows x 1 columns]"
            ]
          },
          "metadata": {
            "tags": []
          },
          "execution_count": 32
        }
      ]
    },
    {
      "cell_type": "code",
      "metadata": {
        "id": "33RI02zIJ9-V"
      },
      "source": [
        "data_train,data_test,label_train,label_test=train_test_split(dataset,dataset_labels,test_size=0.2)"
      ],
      "execution_count": null,
      "outputs": []
    },
    {
      "cell_type": "code",
      "metadata": {
        "id": "KrkzuETOKA3S"
      },
      "source": [
        "def convert_to_images(dataframe):\n",
        " image_dataset=[]\n",
        " for j in (dataframe[0]):\n",
        "  images=[]\n",
        "  for ch in (j):\n",
        "    img=dict1[ch]\n",
        "    images.append(img)\n",
        "    \n",
        "  image_list=np.concatenate(images,axis=1)\n",
        "  image_dataset.append(image_list)\n",
        "    \n",
        " return image_dataset\n",
        "    \n",
        "    \n",
        "    \n",
        "    \n",
        "    \n",
        "df=convert_to_images(data_train)"
      ],
      "execution_count": null,
      "outputs": []
    },
    {
      "cell_type": "code",
      "metadata": {
        "id": "1aj8SVKJ-GlK",
        "colab": {
          "base_uri": "https://localhost:8080/",
          "height": 225
        },
        "outputId": "606c2b41-9030-484a-c241-9120bb5fb08a"
      },
      "source": [
        "data_train[0]"
      ],
      "execution_count": null,
      "outputs": [
        {
          "output_type": "execute_result",
          "data": {
            "text/plain": [
              "6699    BUSY DUE STORM CUSTOMER SERVICE ALWAYS POINT M...\n",
              "3254    AGENTS SAID WOULD REFUNDED AGENTS SAID UNITED ...\n",
              "7677    BEEN HOLD HOURS SYSTEM HUNG TWICE HOUR HOLDING...\n",
              "5550      I WAY FLIGHT TREATED HRS BOARD PLANE INFO GIVEN\n",
              "4912    I LOVE APPRECIATE FACT GUYS CANCELLED FLIGHT F...\n",
              "                              ...                        \n",
              "2438                                              ANOTHER\n",
              "4194    BAD ENOUGH SEAT ASSIGNED SEATING EXIT SEAT FLI...\n",
              "1540                IF UNITED BAGGAGE GET AIRPORT COUNTRY\n",
              "3027                          ND LATE FLIGHT FLIGHT TODAY\n",
              "1648                    I FIRST TIME PRETTY PLACE KNOWING\n",
              "Name: 0, Length: 9200, dtype: object"
            ]
          },
          "metadata": {
            "tags": []
          },
          "execution_count": 44
        }
      ]
    },
    {
      "cell_type": "code",
      "metadata": {
        "id": "LcDRdiGjKDuN"
      },
      "source": [
        "df_test=convert_to_images(data_test)"
      ],
      "execution_count": null,
      "outputs": []
    },
    {
      "cell_type": "code",
      "metadata": {
        "id": "qiXe71OqKFkZ"
      },
      "source": [
        "list2=[]\n",
        "for i ,j in enumerate(data_train[0]):\n",
        "    a=180-len(j)\n",
        "    print(i)\n",
        "    print(len(j))\n",
        "    print(a)\n",
        "    for k in range(0,a):\n",
        "        list2.append(dict1[' '])\n",
        "    list2=np.concatenate(list2,axis=1)\n",
        "    df[i]=np.concatenate((df[i],list2),axis=1)\n",
        "    list2=[]"
      ],
      "execution_count": null,
      "outputs": []
    },
    {
      "cell_type": "code",
      "metadata": {
        "id": "MB-OOYxrKKxY"
      },
      "source": [
        "list3=[]\n",
        "for i ,j in enumerate(data_test[0]):\n",
        "    a=180-len(j)\n",
        "    print(i)\n",
        "    print(len(j))\n",
        "    print(a)\n",
        "    for k in range(0,a):\n",
        "        list3.append(dict1[' '])\n",
        "    list3=np.concatenate(list3,axis=1)\n",
        "    df_test[i]=np.concatenate((df_test[i],list3),axis=1)\n",
        "    list3=[]"
      ],
      "execution_count": null,
      "outputs": []
    },
    {
      "cell_type": "code",
      "metadata": {
        "id": "sUBNzPn_KNG0",
        "colab": {
          "base_uri": "https://localhost:8080/",
          "height": 73
        },
        "outputId": "dffbae28-c270-401a-c543-1d176bb3e1e0"
      },
      "source": [
        "plt.imshow(df[0])"
      ],
      "execution_count": null,
      "outputs": [
        {
          "output_type": "execute_result",
          "data": {
            "text/plain": [
              "<matplotlib.image.AxesImage at 0x7f6845c41cf8>"
            ]
          },
          "metadata": {
            "tags": []
          },
          "execution_count": 41
        },
        {
          "output_type": "display_data",
          "data": {
            "image/png": "[encoded data removed]",
            "text/plain": [
              "<Figure size 432x288 with 1 Axes>"
            ]
          },
          "metadata": {
            "tags": [],
            "needs_background": "light"
          }
        }
      ]
    },
    {
      "cell_type": "code",
      "metadata": {
        "id": "Q4jVJDeTAEcB",
        "colab": {
          "base_uri": "https://localhost:8080/",
          "height": 166
        },
        "outputId": "6a7551ec-ba5a-4dc3-e6f5-d0f93933b906"
      },
      "source": [
        "df.shape"
      ],
      "execution_count": null,
      "outputs": [
        {
          "output_type": "error",
          "ename": "AttributeError",
          "evalue": "ignored",
          "traceback": [
            "\u001b[0;31m---------------------------------------------------------------------------\u001b[0m",
            "\u001b[0;31mAttributeError\u001b[0m                            Traceback (most recent call last)",
            "\u001b[0;32m<ipython-input-45-633337079cd0>\u001b[0m in \u001b[0;36m<module>\u001b[0;34m()\u001b[0m\n\u001b[0;32m----> 1\u001b[0;31m \u001b[0mdf\u001b[0m\u001b[0;34m.\u001b[0m\u001b[0mshape\u001b[0m\u001b[0;34m\u001b[0m\u001b[0;34m\u001b[0m\u001b[0m\n\u001b[0m",
            "\u001b[0;31mAttributeError\u001b[0m: 'list' object has no attribute 'shape'"
          ]
        }
      ]
    },
    {
      "cell_type": "code",
      "metadata": {
        "id": "782MSXp2KOTF",
        "colab": {
          "base_uri": "https://localhost:8080/",
          "height": 166
        },
        "outputId": "0afd18d5-a6ed-467b-9eee-2390941235d8"
      },
      "source": [
        "dfs=df.reshape(-1, 10, 1080,1)"
      ],
      "execution_count": null,
      "outputs": [
        {
          "output_type": "error",
          "ename": "AttributeError",
          "evalue": "ignored",
          "traceback": [
            "\u001b[0;31m---------------------------------------------------------------------------\u001b[0m",
            "\u001b[0;31mAttributeError\u001b[0m                            Traceback (most recent call last)",
            "\u001b[0;32m<ipython-input-43-3e842f2fa1bb>\u001b[0m in \u001b[0;36m<module>\u001b[0;34m()\u001b[0m\n\u001b[0;32m----> 1\u001b[0;31m \u001b[0mdfs\u001b[0m\u001b[0;34m=\u001b[0m\u001b[0mdf\u001b[0m\u001b[0;34m.\u001b[0m\u001b[0mreshape\u001b[0m\u001b[0;34m(\u001b[0m\u001b[0;34m-\u001b[0m\u001b[0;36m1\u001b[0m\u001b[0;34m,\u001b[0m \u001b[0;36m10\u001b[0m\u001b[0;34m,\u001b[0m \u001b[0;36m1080\u001b[0m\u001b[0;34m,\u001b[0m\u001b[0;36m1\u001b[0m\u001b[0;34m)\u001b[0m\u001b[0;34m\u001b[0m\u001b[0;34m\u001b[0m\u001b[0m\n\u001b[0m",
            "\u001b[0;31mAttributeError\u001b[0m: 'list' object has no attribute 'reshape'"
          ]
        }
      ]
    },
    {
      "cell_type": "code",
      "metadata": {
        "id": "8ed9BBCLKRJE",
        "colab": {
          "base_uri": "https://localhost:8080/",
          "height": 35
        },
        "outputId": "9b651572-58d7-4ea0-9039-78a4020381c5"
      },
      "source": [
        "dfs.shape"
      ],
      "execution_count": null,
      "outputs": [
        {
          "output_type": "execute_result",
          "data": {
            "text/plain": [
              "(9200, 10, 1080, 1)"
            ]
          },
          "metadata": {
            "tags": []
          },
          "execution_count": 92
        }
      ]
    },
    {
      "cell_type": "code",
      "metadata": {
        "id": "hMlIkaEkKUFQ",
        "colab": {
          "base_uri": "https://localhost:8080/",
          "height": 35
        },
        "outputId": "2442c594-dc7b-480e-eb9f-725a06fadfcd"
      },
      "source": [
        "model=Sequential([Conv2D(16,kernel_size=3,activation='relu',input_shape=(10,1080,1)),\n",
        "                  Conv2D(32,kernel_size=3,activation='relu'),\n",
        "                  Conv2D(64,kernel_size=3,activation='relu'),\n",
        "                  Flatten(),\n",
        "                  Dense(64,activation='relu'),\n",
        "                  Dense(2,activation='softmax')])\n"
      ],
      "execution_count": null,
      "outputs": [
        {
          "output_type": "stream",
          "text": [
            "the accuracy slowly increases\n"
          ],
          "name": "stdout"
        }
      ]
    },
    {
      "cell_type": "code",
      "metadata": {
        "id": "Uj7Xuw_WbVFV"
      },
      "source": [
        "model2=Sequential([Conv2D(64,kernel_size=3,activation='relu',input_shape=(10,1080,1)),\n",
        "                  Conv2D(64,kernel_size=3,activation='relu'),\n",
        "                  Conv2D(64,kernel_size=3,activation='relu'),\n",
        "                  Flatten(),\n",
        "                  Dense(64,activation='relu'),\n",
        "                  Dense(2,activation='softmax')])"
      ],
      "execution_count": null,
      "outputs": []
    },
    {
      "cell_type": "code",
      "metadata": {
        "id": "Hkc2fdEuwQTL"
      },
      "source": [
        "model8=Sequential()\n",
        "model8.add(Conv2D(64,kernel_size=3,activation='relu',input_shape=(10,1080,1))),\n",
        "model8.add(Conv2D(32,kernel_size=3,activation='relu')),\n",
        "model8.add(Conv2D(32,kernel_size=3,activation='relu')),\n",
        "model8.add(Flatten()),\n",
        "model8.add(Dense(512,activation='relu')),\n",
        "model8.add(Dense(2,activation='softmax'))\n"
      ],
      "execution_count": null,
      "outputs": []
    },
    {
      "cell_type": "code",
      "metadata": {
        "id": "Vobjp7KenV5I"
      },
      "source": [
        "model4=Sequential()\n",
        "model4.add(Conv2D(64,kernel_size=5,activation='relu',padding='same',input_shape=(10,1080,1))),\n",
        "model4.add(Conv2D(32,kernel_size=3,activation='relu')),\n",
        "model4.add(Flatten()),\n",
        "model4.add(Dense(64,activation='relu')),\n",
        "model4.add(Dense(2,activation='softmax'))"
      ],
      "execution_count": null,
      "outputs": []
    },
    {
      "cell_type": "code",
      "metadata": {
        "id": "9VhLH4jtNyN7"
      },
      "source": [
        "model7=Sequential()\n",
        "model7.add(Conv2D(32,kernel_size=(3,10),padding='same',activation='relu',input_shape=(10,1080,1))),\n",
        "model7.add(Conv2D(32,kernel_size=(3,10),activation='relu',padding='same')),\n",
        "model7.add(Conv2D(32,kernel_size=(1,10),activation='relu')),\n",
        "model7.add(MaxPooling2D(pool_size=(2, 2))),\n",
        "model7.add(Conv2D(64,kernel_size=(3,10),padding='same')),\n",
        "model7.add(keras.layers.BatchNormalization(axis=-1)),\n",
        "model7.add(keras.layers.Activation('relu')),\n",
        "model7.add(Conv2D(64,kernel_size=(3,10))),\n",
        "model7.add(keras.layers.BatchNormalization(axis=-1)),\n",
        "model7.add(keras.layers.Activation('relu')),\n",
        "model7.add(keras.layers.MaxPooling2D(pool_size=(2, 2))),   \n",
        "model7.add(Flatten()),\n",
        "model7.add(Dense(512)),\n",
        "model7.add(keras.layers.BatchNormalization(axis=-1)),\n",
        "model7.add(keras.layers.Activation('relu')),\n",
        "model7.add(Dense(2,activation='softmax'))"
      ],
      "execution_count": null,
      "outputs": []
    },
    {
      "cell_type": "code",
      "metadata": {
        "id": "bXRK5iqUKF3g"
      },
      "source": [
        "model9=Sequential()\n",
        "model9.add(Conv2D(32,kernel_size=(3,3),padding='same',input_shape=(10,1080,1))),\n",
        "model9.add(keras.layers.Activation('relu')),\n",
        "model9.add(Conv2D(64,kernel_size=(3,3),padding='same')),\n",
        "model9.add(keras.layers.Activation('relu')),\n",
        "model9.add(Conv2D(128,kernel_size=(1,1))),\n",
        "model9.add(keras.layers.Activation('relu')),\n",
        "model9.add(keras.layers.MaxPooling2D(pool_size=(2, 2))),\n",
        "model9.add(Conv2D(64,kernel_size=(3,3),padding='same')),\n",
        "model9.add(keras.layers.BatchNormalization(axis=-1)),\n",
        "model9.add(keras.layers.Activation('relu')),\n",
        "model9.add(Conv2D(32,kernel_size=(3,3))),\n",
        "model9.add(keras.layers.BatchNormalization(axis=-1)),\n",
        "model9.add(keras.layers.Activation('relu')),\n",
        "model9.add(keras.layers.MaxPooling2D(pool_size=(2, 2))),   \n",
        "model9.add(Flatten()),\n",
        "model9.add(Dense(512)),\n",
        "model9.add(keras.layers.BatchNormalization(axis=-1)),\n",
        "model9.add(keras.layers.Activation('relu')),                \n",
        "model9.add(Dense(2,activation='softmax'))"
      ],
      "execution_count": null,
      "outputs": []
    },
    {
      "cell_type": "code",
      "metadata": {
        "id": "AMyY6tdmKXYw"
      },
      "source": [
        "model8.compile(Adam(0.01),loss='binary_crossentropy',metrics=['accuracy'])"
      ],
      "execution_count": null,
      "outputs": []
    },
    {
      "cell_type": "code",
      "metadata": {
        "id": "zNlwybYqKbRG",
        "colab": {
          "base_uri": "https://localhost:8080/",
          "height": 467
        },
        "outputId": "e9ff6d23-2e45-41cb-e43c-b1eca668a0fe"
      },
      "source": [
        "model8.fit(dfs,label_train,validation_split=0.2,batch_size=100,epochs=10)"
      ],
      "execution_count": null,
      "outputs": [
        {
          "output_type": "stream",
          "text": [
            "Train on 7360 samples, validate on 1840 samples\n",
            "Epoch 1/10\n",
            "7360/7360 [==============================] - 17s 2ms/step - loss: 3.1647 - accuracy: 0.7861 - val_loss: 3.2508 - val_accuracy: 0.7880\n",
            "Epoch 2/10\n",
            "7360/7360 [==============================] - 17s 2ms/step - loss: 3.1678 - accuracy: 0.7940 - val_loss: 3.2508 - val_accuracy: 0.7880\n",
            "Epoch 3/10\n",
            "7360/7360 [==============================] - 17s 2ms/step - loss: 3.1678 - accuracy: 0.7940 - val_loss: 3.2508 - val_accuracy: 0.7880\n",
            "Epoch 4/10\n",
            "4800/7360 [==================>...........] - ETA: 5s - loss: 3.1687 - accuracy: 0.7940"
          ],
          "name": "stdout"
        },
        {
          "output_type": "error",
          "ename": "KeyboardInterrupt",
          "evalue": "ignored",
          "traceback": [
            "\u001b[0;31m---------------------------------------------------------------------------\u001b[0m",
            "\u001b[0;31mKeyboardInterrupt\u001b[0m                         Traceback (most recent call last)",
            "\u001b[0;32m<ipython-input-202-d3c03316241e>\u001b[0m in \u001b[0;36m<module>\u001b[0;34m()\u001b[0m\n\u001b[0;32m----> 1\u001b[0;31m \u001b[0mmodel8\u001b[0m\u001b[0;34m.\u001b[0m\u001b[0mfit\u001b[0m\u001b[0;34m(\u001b[0m\u001b[0mdfs\u001b[0m\u001b[0;34m,\u001b[0m\u001b[0mlabel_train\u001b[0m\u001b[0;34m,\u001b[0m\u001b[0mvalidation_split\u001b[0m\u001b[0;34m=\u001b[0m\u001b[0;36m0.2\u001b[0m\u001b[0;34m,\u001b[0m\u001b[0mbatch_size\u001b[0m\u001b[0;34m=\u001b[0m\u001b[0;36m100\u001b[0m\u001b[0;34m,\u001b[0m\u001b[0mepochs\u001b[0m\u001b[0;34m=\u001b[0m\u001b[0;36m10\u001b[0m\u001b[0;34m)\u001b[0m\u001b[0;34m\u001b[0m\u001b[0;34m\u001b[0m\u001b[0m\n\u001b[0m",
            "\u001b[0;32m/usr/local/lib/python3.6/dist-packages/keras/engine/training.py\u001b[0m in \u001b[0;36mfit\u001b[0;34m(self, x, y, batch_size, epochs, verbose, callbacks, validation_split, validation_data, shuffle, class_weight, sample_weight, initial_epoch, steps_per_epoch, validation_steps, validation_freq, max_queue_size, workers, use_multiprocessing, **kwargs)\u001b[0m\n\u001b[1;32m   1237\u001b[0m                                         \u001b[0msteps_per_epoch\u001b[0m\u001b[0;34m=\u001b[0m\u001b[0msteps_per_epoch\u001b[0m\u001b[0;34m,\u001b[0m\u001b[0;34m\u001b[0m\u001b[0;34m\u001b[0m\u001b[0m\n\u001b[1;32m   1238\u001b[0m                                         \u001b[0mvalidation_steps\u001b[0m\u001b[0;34m=\u001b[0m\u001b[0mvalidation_steps\u001b[0m\u001b[0;34m,\u001b[0m\u001b[0;34m\u001b[0m\u001b[0;34m\u001b[0m\u001b[0m\n\u001b[0;32m-> 1239\u001b[0;31m                                         validation_freq=validation_freq)\n\u001b[0m\u001b[1;32m   1240\u001b[0m \u001b[0;34m\u001b[0m\u001b[0m\n\u001b[1;32m   1241\u001b[0m     def evaluate(self,\n",
            "\u001b[0;32m/usr/local/lib/python3.6/dist-packages/keras/engine/training_arrays.py\u001b[0m in \u001b[0;36mfit_loop\u001b[0;34m(model, fit_function, fit_inputs, out_labels, batch_size, epochs, verbose, callbacks, val_function, val_inputs, shuffle, initial_epoch, steps_per_epoch, validation_steps, validation_freq)\u001b[0m\n\u001b[1;32m    194\u001b[0m                     \u001b[0mins_batch\u001b[0m\u001b[0;34m[\u001b[0m\u001b[0mi\u001b[0m\u001b[0;34m]\u001b[0m \u001b[0;34m=\u001b[0m \u001b[0mins_batch\u001b[0m\u001b[0;34m[\u001b[0m\u001b[0mi\u001b[0m\u001b[0;34m]\u001b[0m\u001b[0;34m.\u001b[0m\u001b[0mtoarray\u001b[0m\u001b[0;34m(\u001b[0m\u001b[0;34m)\u001b[0m\u001b[0;34m\u001b[0m\u001b[0;34m\u001b[0m\u001b[0m\n\u001b[1;32m    195\u001b[0m \u001b[0;34m\u001b[0m\u001b[0m\n\u001b[0;32m--> 196\u001b[0;31m                 \u001b[0mouts\u001b[0m \u001b[0;34m=\u001b[0m \u001b[0mfit_function\u001b[0m\u001b[0;34m(\u001b[0m\u001b[0mins_batch\u001b[0m\u001b[0;34m)\u001b[0m\u001b[0;34m\u001b[0m\u001b[0;34m\u001b[0m\u001b[0m\n\u001b[0m\u001b[1;32m    197\u001b[0m                 \u001b[0mouts\u001b[0m \u001b[0;34m=\u001b[0m \u001b[0mto_list\u001b[0m\u001b[0;34m(\u001b[0m\u001b[0mouts\u001b[0m\u001b[0;34m)\u001b[0m\u001b[0;34m\u001b[0m\u001b[0;34m\u001b[0m\u001b[0m\n\u001b[1;32m    198\u001b[0m                 \u001b[0;32mfor\u001b[0m \u001b[0ml\u001b[0m\u001b[0;34m,\u001b[0m \u001b[0mo\u001b[0m \u001b[0;32min\u001b[0m \u001b[0mzip\u001b[0m\u001b[0;34m(\u001b[0m\u001b[0mout_labels\u001b[0m\u001b[0;34m,\u001b[0m \u001b[0mouts\u001b[0m\u001b[0;34m)\u001b[0m\u001b[0;34m:\u001b[0m\u001b[0;34m\u001b[0m\u001b[0;34m\u001b[0m\u001b[0m\n",
            "\u001b[0;32m/usr/local/lib/python3.6/dist-packages/tensorflow/python/keras/backend.py\u001b[0m in \u001b[0;36m__call__\u001b[0;34m(self, inputs)\u001b[0m\n\u001b[1;32m   3790\u001b[0m         \u001b[0mvalue\u001b[0m \u001b[0;34m=\u001b[0m \u001b[0mmath_ops\u001b[0m\u001b[0;34m.\u001b[0m\u001b[0mcast\u001b[0m\u001b[0;34m(\u001b[0m\u001b[0mvalue\u001b[0m\u001b[0;34m,\u001b[0m \u001b[0mtensor\u001b[0m\u001b[0;34m.\u001b[0m\u001b[0mdtype\u001b[0m\u001b[0;34m)\u001b[0m\u001b[0;34m\u001b[0m\u001b[0;34m\u001b[0m\u001b[0m\n\u001b[1;32m   3791\u001b[0m       \u001b[0mconverted_inputs\u001b[0m\u001b[0;34m.\u001b[0m\u001b[0mappend\u001b[0m\u001b[0;34m(\u001b[0m\u001b[0mvalue\u001b[0m\u001b[0;34m)\u001b[0m\u001b[0;34m\u001b[0m\u001b[0;34m\u001b[0m\u001b[0m\n\u001b[0;32m-> 3792\u001b[0;31m     \u001b[0moutputs\u001b[0m \u001b[0;34m=\u001b[0m \u001b[0mself\u001b[0m\u001b[0;34m.\u001b[0m\u001b[0m_graph_fn\u001b[0m\u001b[0;34m(\u001b[0m\u001b[0;34m*\u001b[0m\u001b[0mconverted_inputs\u001b[0m\u001b[0;34m)\u001b[0m\u001b[0;34m\u001b[0m\u001b[0;34m\u001b[0m\u001b[0m\n\u001b[0m\u001b[1;32m   3793\u001b[0m \u001b[0;34m\u001b[0m\u001b[0m\n\u001b[1;32m   3794\u001b[0m     \u001b[0;31m# EagerTensor.numpy() will often make a copy to ensure memory safety.\u001b[0m\u001b[0;34m\u001b[0m\u001b[0;34m\u001b[0m\u001b[0;34m\u001b[0m\u001b[0m\n",
            "\u001b[0;32m/usr/local/lib/python3.6/dist-packages/tensorflow/python/eager/function.py\u001b[0m in \u001b[0;36m__call__\u001b[0;34m(self, *args, **kwargs)\u001b[0m\n\u001b[1;32m   1603\u001b[0m       \u001b[0mTypeError\u001b[0m\u001b[0;34m:\u001b[0m \u001b[0mFor\u001b[0m \u001b[0minvalid\u001b[0m \u001b[0mpositional\u001b[0m\u001b[0;34m/\u001b[0m\u001b[0mkeyword\u001b[0m \u001b[0margument\u001b[0m \u001b[0mcombinations\u001b[0m\u001b[0;34m.\u001b[0m\u001b[0;34m\u001b[0m\u001b[0;34m\u001b[0m\u001b[0m\n\u001b[1;32m   1604\u001b[0m     \"\"\"\n\u001b[0;32m-> 1605\u001b[0;31m     \u001b[0;32mreturn\u001b[0m \u001b[0mself\u001b[0m\u001b[0;34m.\u001b[0m\u001b[0m_call_impl\u001b[0m\u001b[0;34m(\u001b[0m\u001b[0margs\u001b[0m\u001b[0;34m,\u001b[0m \u001b[0mkwargs\u001b[0m\u001b[0;34m)\u001b[0m\u001b[0;34m\u001b[0m\u001b[0;34m\u001b[0m\u001b[0m\n\u001b[0m\u001b[1;32m   1606\u001b[0m \u001b[0;34m\u001b[0m\u001b[0m\n\u001b[1;32m   1607\u001b[0m   \u001b[0;32mdef\u001b[0m \u001b[0m_call_impl\u001b[0m\u001b[0;34m(\u001b[0m\u001b[0mself\u001b[0m\u001b[0;34m,\u001b[0m \u001b[0margs\u001b[0m\u001b[0;34m,\u001b[0m \u001b[0mkwargs\u001b[0m\u001b[0;34m,\u001b[0m \u001b[0mcancellation_manager\u001b[0m\u001b[0;34m=\u001b[0m\u001b[0;32mNone\u001b[0m\u001b[0;34m)\u001b[0m\u001b[0;34m:\u001b[0m\u001b[0;34m\u001b[0m\u001b[0;34m\u001b[0m\u001b[0m\n",
            "\u001b[0;32m/usr/local/lib/python3.6/dist-packages/tensorflow/python/eager/function.py\u001b[0m in \u001b[0;36m_call_impl\u001b[0;34m(self, args, kwargs, cancellation_manager)\u001b[0m\n\u001b[1;32m   1643\u001b[0m       raise TypeError(\"Keyword arguments {} unknown. Expected {}.\".format(\n\u001b[1;32m   1644\u001b[0m           list(kwargs.keys()), list(self._arg_keywords)))\n\u001b[0;32m-> 1645\u001b[0;31m     \u001b[0;32mreturn\u001b[0m \u001b[0mself\u001b[0m\u001b[0;34m.\u001b[0m\u001b[0m_call_flat\u001b[0m\u001b[0;34m(\u001b[0m\u001b[0margs\u001b[0m\u001b[0;34m,\u001b[0m \u001b[0mself\u001b[0m\u001b[0;34m.\u001b[0m\u001b[0mcaptured_inputs\u001b[0m\u001b[0;34m,\u001b[0m \u001b[0mcancellation_manager\u001b[0m\u001b[0;34m)\u001b[0m\u001b[0;34m\u001b[0m\u001b[0;34m\u001b[0m\u001b[0m\n\u001b[0m\u001b[1;32m   1646\u001b[0m \u001b[0;34m\u001b[0m\u001b[0m\n\u001b[1;32m   1647\u001b[0m   \u001b[0;32mdef\u001b[0m \u001b[0m_filtered_call\u001b[0m\u001b[0;34m(\u001b[0m\u001b[0mself\u001b[0m\u001b[0;34m,\u001b[0m \u001b[0margs\u001b[0m\u001b[0;34m,\u001b[0m \u001b[0mkwargs\u001b[0m\u001b[0;34m)\u001b[0m\u001b[0;34m:\u001b[0m\u001b[0;34m\u001b[0m\u001b[0;34m\u001b[0m\u001b[0m\n",
            "\u001b[0;32m/usr/local/lib/python3.6/dist-packages/tensorflow/python/eager/function.py\u001b[0m in \u001b[0;36m_call_flat\u001b[0;34m(self, args, captured_inputs, cancellation_manager)\u001b[0m\n\u001b[1;32m   1744\u001b[0m       \u001b[0;31m# No tape is watching; skip to running the function.\u001b[0m\u001b[0;34m\u001b[0m\u001b[0;34m\u001b[0m\u001b[0;34m\u001b[0m\u001b[0m\n\u001b[1;32m   1745\u001b[0m       return self._build_call_outputs(self._inference_function.call(\n\u001b[0;32m-> 1746\u001b[0;31m           ctx, args, cancellation_manager=cancellation_manager))\n\u001b[0m\u001b[1;32m   1747\u001b[0m     forward_backward = self._select_forward_and_backward_functions(\n\u001b[1;32m   1748\u001b[0m         \u001b[0margs\u001b[0m\u001b[0;34m,\u001b[0m\u001b[0;34m\u001b[0m\u001b[0;34m\u001b[0m\u001b[0m\n",
            "\u001b[0;32m/usr/local/lib/python3.6/dist-packages/tensorflow/python/eager/function.py\u001b[0m in \u001b[0;36mcall\u001b[0;34m(self, ctx, args, cancellation_manager)\u001b[0m\n\u001b[1;32m    596\u001b[0m               \u001b[0minputs\u001b[0m\u001b[0;34m=\u001b[0m\u001b[0margs\u001b[0m\u001b[0;34m,\u001b[0m\u001b[0;34m\u001b[0m\u001b[0;34m\u001b[0m\u001b[0m\n\u001b[1;32m    597\u001b[0m               \u001b[0mattrs\u001b[0m\u001b[0;34m=\u001b[0m\u001b[0mattrs\u001b[0m\u001b[0;34m,\u001b[0m\u001b[0;34m\u001b[0m\u001b[0;34m\u001b[0m\u001b[0m\n\u001b[0;32m--> 598\u001b[0;31m               ctx=ctx)\n\u001b[0m\u001b[1;32m    599\u001b[0m         \u001b[0;32melse\u001b[0m\u001b[0;34m:\u001b[0m\u001b[0;34m\u001b[0m\u001b[0;34m\u001b[0m\u001b[0m\n\u001b[1;32m    600\u001b[0m           outputs = execute.execute_with_cancellation(\n",
            "\u001b[0;32m/usr/local/lib/python3.6/dist-packages/tensorflow/python/eager/execute.py\u001b[0m in \u001b[0;36mquick_execute\u001b[0;34m(op_name, num_outputs, inputs, attrs, ctx, name)\u001b[0m\n\u001b[1;32m     58\u001b[0m     \u001b[0mctx\u001b[0m\u001b[0;34m.\u001b[0m\u001b[0mensure_initialized\u001b[0m\u001b[0;34m(\u001b[0m\u001b[0;34m)\u001b[0m\u001b[0;34m\u001b[0m\u001b[0;34m\u001b[0m\u001b[0m\n\u001b[1;32m     59\u001b[0m     tensors = pywrap_tfe.TFE_Py_Execute(ctx._handle, device_name, op_name,\n\u001b[0;32m---> 60\u001b[0;31m                                         inputs, attrs, num_outputs)\n\u001b[0m\u001b[1;32m     61\u001b[0m   \u001b[0;32mexcept\u001b[0m \u001b[0mcore\u001b[0m\u001b[0;34m.\u001b[0m\u001b[0m_NotOkStatusException\u001b[0m \u001b[0;32mas\u001b[0m \u001b[0me\u001b[0m\u001b[0;34m:\u001b[0m\u001b[0;34m\u001b[0m\u001b[0;34m\u001b[0m\u001b[0m\n\u001b[1;32m     62\u001b[0m     \u001b[0;32mif\u001b[0m \u001b[0mname\u001b[0m \u001b[0;32mis\u001b[0m \u001b[0;32mnot\u001b[0m \u001b[0;32mNone\u001b[0m\u001b[0;34m:\u001b[0m\u001b[0;34m\u001b[0m\u001b[0;34m\u001b[0m\u001b[0m\n",
            "\u001b[0;31mKeyboardInterrupt\u001b[0m: "
          ]
        }
      ]
    },
    {
      "cell_type": "code",
      "metadata": {
        "id": "1rGZxvdPNHnf"
      },
      "source": [
        "dfs1=np.array(df_test)"
      ],
      "execution_count": null,
      "outputs": []
    },
    {
      "cell_type": "code",
      "metadata": {
        "id": "KyYpfurrNKnt"
      },
      "source": [
        "dfs1=dfs1.reshape(-1, 10, 1080,1)"
      ],
      "execution_count": null,
      "outputs": []
    },
    {
      "cell_type": "code",
      "metadata": {
        "id": "3JQGAEdSNMGf",
        "colab": {
          "base_uri": "https://localhost:8080/",
          "height": 35
        },
        "outputId": "0a7e770c-3a12-42d2-8939-01e13d227f5e"
      },
      "source": [
        "dfs1.shape"
      ],
      "execution_count": null,
      "outputs": [
        {
          "output_type": "execute_result",
          "data": {
            "text/plain": [
              "(2301, 10, 1080, 1)"
            ]
          },
          "metadata": {
            "tags": []
          },
          "execution_count": 176
        }
      ]
    },
    {
      "cell_type": "code",
      "metadata": {
        "id": "nin8jbR_NPiW"
      },
      "source": [
        "predictions=model7.predict(dfs1)"
      ],
      "execution_count": null,
      "outputs": []
    },
    {
      "cell_type": "code",
      "metadata": {
        "id": "PJm_cOWrNQdF",
        "colab": {
          "base_uri": "https://localhost:8080/",
          "height": 139
        },
        "outputId": "6f7c8c86-6fa7-4ff7-91a1-30b6a2033d5d"
      },
      "source": [
        "predictions"
      ],
      "execution_count": null,
      "outputs": [
        {
          "output_type": "execute_result",
          "data": {
            "text/plain": [
              "array([[0.98062485, 0.01937513],\n",
              "       [0.99379176, 0.00620829],\n",
              "       [0.8902146 , 0.10978539],\n",
              "       ...,\n",
              "       [0.99437124, 0.00562884],\n",
              "       [0.07163121, 0.9283688 ],\n",
              "       [0.4389995 , 0.5610005 ]], dtype=float32)"
            ]
          },
          "metadata": {
            "tags": []
          },
          "execution_count": 178
        }
      ]
    },
    {
      "cell_type": "code",
      "metadata": {
        "id": "9dZTC2UXNTFR",
        "colab": {
          "base_uri": "https://localhost:8080/",
          "height": 35
        },
        "outputId": "f6acf06a-a5fe-47c1-ab47-536efb96d9cc"
      },
      "source": [
        "results=model7.evaluate(dfs1,label_test)\n",
        "# evaluation"
      ],
      "execution_count": null,
      "outputs": [
        {
          "output_type": "stream",
          "text": [
            "2301/2301 [==============================] - 5s 2ms/step\n"
          ],
          "name": "stdout"
        }
      ]
    },
    {
      "cell_type": "code",
      "metadata": {
        "id": "ahmzsY5ITLYi",
        "colab": {
          "base_uri": "https://localhost:8080/",
          "height": 35
        },
        "outputId": "dbecf2c7-de05-47b0-e211-501769bb6a16"
      },
      "source": [
        "results"
      ],
      "execution_count": null,
      "outputs": [
        {
          "output_type": "execute_result",
          "data": {
            "text/plain": [
              "[0.3182237349945998, 0.8770099878311157]"
            ]
          },
          "metadata": {
            "tags": []
          },
          "execution_count": 180
        }
      ]
    },
    {
      "cell_type": "code",
      "metadata": {
        "id": "T6zJNvi3NVMC"
      },
      "source": [
        "  from sklearn.metrics import confusion_matrix\n",
        "  import itertools"
      ],
      "execution_count": null,
      "outputs": []
    },
    {
      "cell_type": "code",
      "metadata": {
        "id": "WCmmwAlJNZxH"
      },
      "source": [
        "label_test_array=np.array(label_test)"
      ],
      "execution_count": null,
      "outputs": []
    },
    {
      "cell_type": "code",
      "metadata": {
        "id": "0qbAIANYNblC"
      },
      "source": [
        "prediction_list=[]\n",
        "for i in predictions:\n",
        "    prediction_list.append(np.argmax(i))\n",
        "    #print(i)\n",
        "    "
      ],
      "execution_count": null,
      "outputs": []
    },
    {
      "cell_type": "code",
      "metadata": {
        "id": "dWSPJxskNdZ-"
      },
      "source": [
        "label_test_array_list=[]\n",
        "for j in label_test_array:\n",
        "    label_test_array_list.append(np.argmax(j))"
      ],
      "execution_count": null,
      "outputs": []
    },
    {
      "cell_type": "code",
      "metadata": {
        "id": "rSAztcttNfD4"
      },
      "source": [
        "cm = confusion_matrix(label_test_array_list,prediction_list)"
      ],
      "execution_count": null,
      "outputs": []
    },
    {
      "cell_type": "code",
      "metadata": {
        "id": "zDt4qCmMNg-y"
      },
      "source": [
        "def plot_confusion_matrix(cm,classes,normalize=False,title='confusion_matrix',cmap=plt.cm.Blues):\n",
        "    plt.imshow(cm,interpolation='nearest',cmap=cmap)\n",
        "    plt.title(title)\n",
        "    plt.colorbar()\n",
        "    tick_marks=np.arange(len(classes))\n",
        "    plt.xticks(tick_marks,classes,rotation=45)\n",
        "    plt.yticks(tick_marks,classes)\n",
        "    \n",
        "    if normalize:\n",
        "        cm=cm.astype('float') / cm.sum(axis=1)[:,np.newaxis]\n",
        "        print('normalized confusion matrix')\n",
        "    else:\n",
        "        print('confusion matrix,without normalization')\n",
        "    print(cm)\n",
        "    \n",
        "    thresh=cm.max()/2.\n",
        "    for i,j in itertools.product(range(cm.shape[0]),range(cm.shape[1])):\n",
        "        plt.text(j,i,cm[i,j], \n",
        "                 horizontalalignment=\"center\",\n",
        "                 color='white' if cm[i,j] > thresh else 'black')\n",
        "    plt.tight_layout()\n",
        "    plt.ylabel('true_label')\n",
        "    plt.xlabel('predicted_label')"
      ],
      "execution_count": null,
      "outputs": []
    },
    {
      "cell_type": "code",
      "metadata": {
        "id": "RG1eYHsTNklv",
        "colab": {
          "base_uri": "https://localhost:8080/",
          "height": 364
        },
        "outputId": "923ff227-2a6c-4d99-8cd7-2d2b75b842c2"
      },
      "source": [
        "cm_plot_labels=['negative','positive']\n",
        "plot_confusion_matrix(cm,cm_plot_labels,title='Confusion_matirx')"
      ],
      "execution_count": null,
      "outputs": [
        {
          "output_type": "stream",
          "text": [
            "confusion matrix,without normalization\n",
            "[[1760   95]\n",
            " [ 188  258]]\n"
          ],
          "name": "stdout"
        },
        {
          "output_type": "display_data",
          "data": {
            "image/png": "[encoded data removed]",
            "text/plain": [
              "<Figure size 432x288 with 2 Axes>"
            ]
          },
          "metadata": {
            "tags": [],
            "needs_background": "light"
          }
        }
      ]
    },
    {
      "cell_type": "code",
      "metadata": {
        "id": "6Ud1RhBHNm5n",
        "colab": {
          "base_uri": "https://localhost:8080/",
          "height": 173
        },
        "outputId": "6a4f832c-4ad0-41dc-d089-56f9f4bd5c6d"
      },
      "source": [
        "from sklearn.metrics import classification_report\n",
        "print(classification_report(label_test_array_list,prediction_list))"
      ],
      "execution_count": null,
      "outputs": [
        {
          "output_type": "stream",
          "text": [
            "              precision    recall  f1-score   support\n",
            "\n",
            "           0       0.90      0.95      0.93      1855\n",
            "           1       0.73      0.58      0.65       446\n",
            "\n",
            "    accuracy                           0.88      2301\n",
            "   macro avg       0.82      0.76      0.79      2301\n",
            "weighted avg       0.87      0.88      0.87      2301\n",
            "\n"
          ],
          "name": "stdout"
        }
      ]
    }
  ]
}